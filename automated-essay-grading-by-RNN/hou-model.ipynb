{
 "cells": [
  {
   "cell_type": "code",
   "execution_count": 1,
   "metadata": {
    "collapsed": true
   },
   "outputs": [],
   "source": [
    "import pandas as pd\n",
    "import re\n",
    "import numpy as np\n",
    "import random\n",
    "import collections\n",
    "import codecs\n",
    "from sklearn.model_selection import train_test_split\n",
    "import matplotlib.pyplot as plt\n",
    "import pickle\n",
    "%matplotlib inline"
   ]
  },
  {
   "cell_type": "code",
   "execution_count": 70,
   "metadata": {},
   "outputs": [
    {
     "name": "stdout",
     "output_type": "stream",
     "text": [
      "[name: \"/device:CPU:0\"\n",
      "device_type: \"CPU\"\n",
      "memory_limit: 268435456\n",
      "locality {\n",
      "}\n",
      "incarnation: 8738651721657568113\n",
      "]\n"
     ]
    }
   ],
   "source": [
    "from tensorflow.python.client import device_lib\n",
    "print(device_lib.list_local_devices())"
   ]
  },
  {
   "cell_type": "code",
   "execution_count": 71,
   "metadata": {},
   "outputs": [
    {
     "data": {
      "text/plain": [
       "[]"
      ]
     },
     "execution_count": 71,
     "metadata": {},
     "output_type": "execute_result"
    }
   ],
   "source": [
    "from keras import backend as K\n",
    "K.tensorflow_backend._get_available_gpus()"
   ]
  },
  {
   "cell_type": "code",
   "execution_count": 66,
   "metadata": {
    "collapsed": true
   },
   "outputs": [],
   "source": [
    "import tensorflow as tf"
   ]
  },
  {
   "cell_type": "code",
   "execution_count": 72,
   "metadata": {
    "collapsed": true
   },
   "outputs": [],
   "source": [
    "from keras.preprocessing.sequence import pad_sequences\n",
    "from keras.models import Sequential\n",
    "from keras.layers import Input, Dense, Activation, Embedding, LSTM, concatenate, Flatten, Dropout\n",
    "\n",
    "from keras.preprocessing.text import Tokenizer\n",
    "from keras.models import Model\n",
    "from keras.initializers import Constant\n"
   ]
  },
  {
   "cell_type": "code",
   "execution_count": null,
   "metadata": {
    "collapsed": true
   },
   "outputs": [],
   "source": []
  },
  {
   "cell_type": "code",
   "execution_count": 73,
   "metadata": {
    "collapsed": true
   },
   "outputs": [],
   "source": [
    "df = pd.read_csv('training.csv')"
   ]
  },
  {
   "cell_type": "code",
   "execution_count": 74,
   "metadata": {},
   "outputs": [
    {
     "name": "stdout",
     "output_type": "stream",
     "text": [
      "<class 'pandas.core.frame.DataFrame'>\n",
      "RangeIndex: 12977 entries, 0 to 12976\n",
      "Data columns (total 6 columns):\n",
      "essay_id         12977 non-null int64\n",
      "essay_set        12977 non-null int64\n",
      "essay            12977 non-null object\n",
      "score            12977 non-null float64\n",
      "type_of_essay    12977 non-null object\n",
      "grade_level      12977 non-null int64\n",
      "dtypes: float64(1), int64(3), object(2)\n",
      "memory usage: 608.4+ KB\n"
     ]
    }
   ],
   "source": [
    "df.info()"
   ]
  },
  {
   "cell_type": "code",
   "execution_count": 75,
   "metadata": {},
   "outputs": [
    {
     "data": {
      "text/html": [
       "<div>\n",
       "<style scoped>\n",
       "    .dataframe tbody tr th:only-of-type {\n",
       "        vertical-align: middle;\n",
       "    }\n",
       "\n",
       "    .dataframe tbody tr th {\n",
       "        vertical-align: top;\n",
       "    }\n",
       "\n",
       "    .dataframe thead th {\n",
       "        text-align: right;\n",
       "    }\n",
       "</style>\n",
       "<table border=\"1\" class=\"dataframe\">\n",
       "  <thead>\n",
       "    <tr style=\"text-align: right;\">\n",
       "      <th></th>\n",
       "      <th>essay_id</th>\n",
       "      <th>essay_set</th>\n",
       "      <th>essay</th>\n",
       "      <th>score</th>\n",
       "      <th>type_of_essay</th>\n",
       "      <th>grade_level</th>\n",
       "    </tr>\n",
       "  </thead>\n",
       "  <tbody>\n",
       "    <tr>\n",
       "      <th>0</th>\n",
       "      <td>1</td>\n",
       "      <td>1</td>\n",
       "      <td>Dear local newspaper, I think effects computer...</td>\n",
       "      <td>0.6</td>\n",
       "      <td>persuasive / narrative  / expository</td>\n",
       "      <td>8</td>\n",
       "    </tr>\n",
       "    <tr>\n",
       "      <th>1</th>\n",
       "      <td>2</td>\n",
       "      <td>1</td>\n",
       "      <td>Dear @CAPS1 @CAPS2, I believe that using compu...</td>\n",
       "      <td>0.7</td>\n",
       "      <td>persuasive / narrative  / expository</td>\n",
       "      <td>8</td>\n",
       "    </tr>\n",
       "    <tr>\n",
       "      <th>2</th>\n",
       "      <td>3</td>\n",
       "      <td>1</td>\n",
       "      <td>Dear, @CAPS1 @CAPS2 @CAPS3 More and more peopl...</td>\n",
       "      <td>0.5</td>\n",
       "      <td>persuasive / narrative  / expository</td>\n",
       "      <td>8</td>\n",
       "    </tr>\n",
       "    <tr>\n",
       "      <th>3</th>\n",
       "      <td>4</td>\n",
       "      <td>1</td>\n",
       "      <td>Dear Local Newspaper, @CAPS1 I have found that...</td>\n",
       "      <td>0.8</td>\n",
       "      <td>persuasive / narrative  / expository</td>\n",
       "      <td>8</td>\n",
       "    </tr>\n",
       "    <tr>\n",
       "      <th>4</th>\n",
       "      <td>5</td>\n",
       "      <td>1</td>\n",
       "      <td>Dear @LOCATION1, I know having computers has a...</td>\n",
       "      <td>0.6</td>\n",
       "      <td>persuasive / narrative  / expository</td>\n",
       "      <td>8</td>\n",
       "    </tr>\n",
       "  </tbody>\n",
       "</table>\n",
       "</div>"
      ],
      "text/plain": [
       "   essay_id  essay_set                                              essay  \\\n",
       "0         1          1  Dear local newspaper, I think effects computer...   \n",
       "1         2          1  Dear @CAPS1 @CAPS2, I believe that using compu...   \n",
       "2         3          1  Dear, @CAPS1 @CAPS2 @CAPS3 More and more peopl...   \n",
       "3         4          1  Dear Local Newspaper, @CAPS1 I have found that...   \n",
       "4         5          1  Dear @LOCATION1, I know having computers has a...   \n",
       "\n",
       "   score                         type_of_essay  grade_level  \n",
       "0    0.6  persuasive / narrative  / expository            8  \n",
       "1    0.7  persuasive / narrative  / expository            8  \n",
       "2    0.5  persuasive / narrative  / expository            8  \n",
       "3    0.8  persuasive / narrative  / expository            8  \n",
       "4    0.6  persuasive / narrative  / expository            8  "
      ]
     },
     "execution_count": 75,
     "metadata": {},
     "output_type": "execute_result"
    }
   ],
   "source": [
    "df.head(5)"
   ]
  },
  {
   "cell_type": "markdown",
   "metadata": {
    "collapsed": true
   },
   "source": [
    "### Replace original place holder for tokenizer "
   ]
  },
  {
   "cell_type": "code",
   "execution_count": 76,
   "metadata": {
    "collapsed": true
   },
   "outputs": [],
   "source": [
    "p_caps = re.compile(r'@caps\\d{0,2}', re.I)\n",
    "p_city = re.compile(r'@city\\d{0,2}', re.I)\n",
    "p_date = re.compile(r'@date\\d{0,2}', re.I)\n",
    "p_dr = re.compile(r'@dr\\d{0,2}', re.I)\n",
    "p_location = re.compile(r'@location\\d{0,2}', re.I)\n",
    "p_money = re.compile(r'@money\\d{0,2}', re.I)\n",
    "p_month = re.compile(r'@month\\d{0,2}', re.I)\n",
    "p_num = re.compile(r'@num\\d{0,2}', re.I)\n",
    "p_organization = re.compile(r'@organization\\d{0,2}', re.I)\n",
    "p_percent = re.compile(r'@percent\\d{0,2}', re.I)\n",
    "p_person = re.compile(r'@person\\d{0,2}', re.I)\n",
    "p_state = re.compile(r'@state\\d{0,2}', re.I)\n",
    "p_time = re.compile(r'@time\\d{0,2}', re.I)\n",
    "p_email = re.compile(r'@email\\d{0,2}', re.I)\n",
    "\n",
    "\n",
    "def replace_label(e):\n",
    "    p_caps = re.compile(r'@caps\\d{0,2}', re.I)\n",
    "    p_city = re.compile(r'@city\\d{0,2}', re.I)\n",
    "    p_date = re.compile(r'@date\\d{0,2}', re.I)\n",
    "    p_dr = re.compile(r'@dr\\d{0,2}', re.I)\n",
    "    p_location = re.compile(r'@location\\d{0,2}', re.I)\n",
    "    p_money = re.compile(r'@money\\d{0,2}', re.I)\n",
    "    p_month = re.compile(r'@month\\d{0,2}', re.I)\n",
    "    p_num = re.compile(r'@num\\d{0,2}', re.I)\n",
    "    p_organization = re.compile(r'@organization\\d{0,2}', re.I)\n",
    "    p_percent = re.compile(r'@percent\\d{0,2}', re.I)\n",
    "    p_person = re.compile(r'@person\\d{0,2}', re.I)\n",
    "    p_state = re.compile(r'@state\\d{0,2}', re.I)\n",
    "    p_time = re.compile(r'@time\\d{0,2}', re.I)\n",
    "    p_email = re.compile(r'@email\\d{0,2}', re.I)\n",
    "\n",
    "\n",
    "    text = e\n",
    "    text = p_caps.sub('LABEL_CAPS', text)\n",
    "    text = p_city.sub('LABEL_CITY', text)\n",
    "    text = p_date.sub('LABEL_DATE', text)\n",
    "    \n",
    "    text = p_dr.sub('LABEL_DR', text)\n",
    "    text = p_location.sub('LABEL_LOCATION', text)\n",
    "    text = p_money.sub('LABEL_MONEY', text)\n",
    "    text = p_month.sub('LABEL_MONTH', text)\n",
    "    text = p_num.sub('LABEL_NUM', text)\n",
    "    text = p_organization.sub('LABEL_ORGANIZATION', text)\n",
    "    text = p_percent.sub('LABEL_PERCENT', text)\n",
    "    text = p_person.sub('LABEL_PERSON', text)\n",
    "    text = p_state.sub('LABEL_STATE', text)\n",
    "    text = p_time.sub('LABEL_TIME', text)\n",
    "    text = p_email.sub('LABEL_EMAIL', text)\n",
    "    return text"
   ]
  },
  {
   "cell_type": "code",
   "execution_count": 77,
   "metadata": {
    "collapsed": true
   },
   "outputs": [],
   "source": [
    "df['essay_clean'] = df.essay.apply(replace_label)"
   ]
  },
  {
   "cell_type": "code",
   "execution_count": 78,
   "metadata": {},
   "outputs": [
    {
     "data": {
      "text/html": [
       "<div>\n",
       "<style scoped>\n",
       "    .dataframe tbody tr th:only-of-type {\n",
       "        vertical-align: middle;\n",
       "    }\n",
       "\n",
       "    .dataframe tbody tr th {\n",
       "        vertical-align: top;\n",
       "    }\n",
       "\n",
       "    .dataframe thead th {\n",
       "        text-align: right;\n",
       "    }\n",
       "</style>\n",
       "<table border=\"1\" class=\"dataframe\">\n",
       "  <thead>\n",
       "    <tr style=\"text-align: right;\">\n",
       "      <th></th>\n",
       "      <th>essay_id</th>\n",
       "      <th>essay_set</th>\n",
       "      <th>essay</th>\n",
       "      <th>score</th>\n",
       "      <th>type_of_essay</th>\n",
       "      <th>grade_level</th>\n",
       "      <th>essay_clean</th>\n",
       "    </tr>\n",
       "  </thead>\n",
       "  <tbody>\n",
       "    <tr>\n",
       "      <th>0</th>\n",
       "      <td>1</td>\n",
       "      <td>1</td>\n",
       "      <td>Dear local newspaper, I think effects computer...</td>\n",
       "      <td>0.6</td>\n",
       "      <td>persuasive / narrative  / expository</td>\n",
       "      <td>8</td>\n",
       "      <td>Dear local newspaper, I think effects computer...</td>\n",
       "    </tr>\n",
       "    <tr>\n",
       "      <th>1</th>\n",
       "      <td>2</td>\n",
       "      <td>1</td>\n",
       "      <td>Dear @CAPS1 @CAPS2, I believe that using compu...</td>\n",
       "      <td>0.7</td>\n",
       "      <td>persuasive / narrative  / expository</td>\n",
       "      <td>8</td>\n",
       "      <td>Dear LABEL_CAPS LABEL_CAPS, I believe that usi...</td>\n",
       "    </tr>\n",
       "    <tr>\n",
       "      <th>2</th>\n",
       "      <td>3</td>\n",
       "      <td>1</td>\n",
       "      <td>Dear, @CAPS1 @CAPS2 @CAPS3 More and more peopl...</td>\n",
       "      <td>0.5</td>\n",
       "      <td>persuasive / narrative  / expository</td>\n",
       "      <td>8</td>\n",
       "      <td>Dear, LABEL_CAPS LABEL_CAPS LABEL_CAPS More an...</td>\n",
       "    </tr>\n",
       "    <tr>\n",
       "      <th>3</th>\n",
       "      <td>4</td>\n",
       "      <td>1</td>\n",
       "      <td>Dear Local Newspaper, @CAPS1 I have found that...</td>\n",
       "      <td>0.8</td>\n",
       "      <td>persuasive / narrative  / expository</td>\n",
       "      <td>8</td>\n",
       "      <td>Dear Local Newspaper, LABEL_CAPS I have found ...</td>\n",
       "    </tr>\n",
       "    <tr>\n",
       "      <th>4</th>\n",
       "      <td>5</td>\n",
       "      <td>1</td>\n",
       "      <td>Dear @LOCATION1, I know having computers has a...</td>\n",
       "      <td>0.6</td>\n",
       "      <td>persuasive / narrative  / expository</td>\n",
       "      <td>8</td>\n",
       "      <td>Dear LABEL_LOCATION, I know having computers h...</td>\n",
       "    </tr>\n",
       "  </tbody>\n",
       "</table>\n",
       "</div>"
      ],
      "text/plain": [
       "   essay_id  essay_set                                              essay  \\\n",
       "0         1          1  Dear local newspaper, I think effects computer...   \n",
       "1         2          1  Dear @CAPS1 @CAPS2, I believe that using compu...   \n",
       "2         3          1  Dear, @CAPS1 @CAPS2 @CAPS3 More and more peopl...   \n",
       "3         4          1  Dear Local Newspaper, @CAPS1 I have found that...   \n",
       "4         5          1  Dear @LOCATION1, I know having computers has a...   \n",
       "\n",
       "   score                         type_of_essay  grade_level  \\\n",
       "0    0.6  persuasive / narrative  / expository            8   \n",
       "1    0.7  persuasive / narrative  / expository            8   \n",
       "2    0.5  persuasive / narrative  / expository            8   \n",
       "3    0.8  persuasive / narrative  / expository            8   \n",
       "4    0.6  persuasive / narrative  / expository            8   \n",
       "\n",
       "                                         essay_clean  \n",
       "0  Dear local newspaper, I think effects computer...  \n",
       "1  Dear LABEL_CAPS LABEL_CAPS, I believe that usi...  \n",
       "2  Dear, LABEL_CAPS LABEL_CAPS LABEL_CAPS More an...  \n",
       "3  Dear Local Newspaper, LABEL_CAPS I have found ...  \n",
       "4  Dear LABEL_LOCATION, I know having computers h...  "
      ]
     },
     "execution_count": 78,
     "metadata": {},
     "output_type": "execute_result"
    }
   ],
   "source": [
    "df.head(5)"
   ]
  },
  {
   "cell_type": "markdown",
   "metadata": {},
   "source": [
    "### Check data quality\n",
    "- the number of words in each essay\n",
    "- the length of each essay"
   ]
  },
  {
   "cell_type": "code",
   "execution_count": 79,
   "metadata": {},
   "outputs": [
    {
     "data": {
      "text/plain": [
       "count    12977.000000\n",
       "mean       226.045773\n",
       "std        180.600845\n",
       "min          1.000000\n",
       "25%         98.000000\n",
       "50%        164.000000\n",
       "75%        315.000000\n",
       "max       1118.000000\n",
       "Name: essay_clean, dtype: float64"
      ]
     },
     "execution_count": 79,
     "metadata": {},
     "output_type": "execute_result"
    }
   ],
   "source": [
    "df['essay_clean'].str.count(' ').describe()"
   ]
  },
  {
   "cell_type": "code",
   "execution_count": 80,
   "metadata": {},
   "outputs": [
    {
     "data": {
      "text/plain": [
       "<matplotlib.axes._subplots.AxesSubplot at 0x7f02ed1e79e8>"
      ]
     },
     "execution_count": 80,
     "metadata": {},
     "output_type": "execute_result"
    },
    {
     "data": {
      "image/png": "[encoded data removed]",
      "text/plain": [
       "<matplotlib.figure.Figure at 0x7f16b742ccf8>"
      ]
     },
     "metadata": {},
     "output_type": "display_data"
    }
   ],
   "source": [
    "df['essay_clean'].str.count(' ').hist()"
   ]
  },
  {
   "cell_type": "code",
   "execution_count": 81,
   "metadata": {},
   "outputs": [
    {
     "data": {
      "text/html": [
       "<div>\n",
       "<style scoped>\n",
       "    .dataframe tbody tr th:only-of-type {\n",
       "        vertical-align: middle;\n",
       "    }\n",
       "\n",
       "    .dataframe tbody tr th {\n",
       "        vertical-align: top;\n",
       "    }\n",
       "\n",
       "    .dataframe thead th {\n",
       "        text-align: right;\n",
       "    }\n",
       "</style>\n",
       "<table border=\"1\" class=\"dataframe\">\n",
       "  <thead>\n",
       "    <tr style=\"text-align: right;\">\n",
       "      <th></th>\n",
       "      <th>essay_id</th>\n",
       "      <th>essay_set</th>\n",
       "      <th>essay</th>\n",
       "      <th>score</th>\n",
       "      <th>type_of_essay</th>\n",
       "      <th>grade_level</th>\n",
       "      <th>essay_clean</th>\n",
       "    </tr>\n",
       "  </thead>\n",
       "  <tbody>\n",
       "    <tr>\n",
       "      <th>356</th>\n",
       "      <td>359</td>\n",
       "      <td>1</td>\n",
       "      <td>Being active has no limit, but technology does.</td>\n",
       "      <td>0.000000</td>\n",
       "      <td>persuasive / narrative  / expository</td>\n",
       "      <td>8</td>\n",
       "      <td>Being active has no limit, but technology does.</td>\n",
       "    </tr>\n",
       "    <tr>\n",
       "      <th>3998</th>\n",
       "      <td>6394</td>\n",
       "      <td>3</td>\n",
       "      <td>He race trying to get yosemitre for some rushi...</td>\n",
       "      <td>0.333333</td>\n",
       "      <td>source dependent responses</td>\n",
       "      <td>10</td>\n",
       "      <td>He race trying to get yosemitre for some rushi...</td>\n",
       "    </tr>\n",
       "    <tr>\n",
       "      <th>4556</th>\n",
       "      <td>6954</td>\n",
       "      <td>3</td>\n",
       "      <td>During this essay the author is talking about ...</td>\n",
       "      <td>0.333333</td>\n",
       "      <td>source dependent responses</td>\n",
       "      <td>10</td>\n",
       "      <td>During this essay the author is talking about ...</td>\n",
       "    </tr>\n",
       "    <tr>\n",
       "      <th>4825</th>\n",
       "      <td>7223</td>\n",
       "      <td>3</td>\n",
       "      <td>The features of the setting affected the cycli...</td>\n",
       "      <td>0.333333</td>\n",
       "      <td>source dependent responses</td>\n",
       "      <td>10</td>\n",
       "      <td>The features of the setting affected the cycli...</td>\n",
       "    </tr>\n",
       "    <tr>\n",
       "      <th>5532</th>\n",
       "      <td>9086</td>\n",
       "      <td>4</td>\n",
       "      <td>So she did not forget to take the test again.</td>\n",
       "      <td>0.333333</td>\n",
       "      <td>source dependent responses</td>\n",
       "      <td>10</td>\n",
       "      <td>So she did not forget to take the test again.</td>\n",
       "    </tr>\n",
       "    <tr>\n",
       "      <th>5930</th>\n",
       "      <td>9486</td>\n",
       "      <td>4</td>\n",
       "      <td>Saeng would return to her homeland.</td>\n",
       "      <td>0.000000</td>\n",
       "      <td>source dependent responses</td>\n",
       "      <td>10</td>\n",
       "      <td>Saeng would return to her homeland.</td>\n",
       "    </tr>\n",
       "    <tr>\n",
       "      <th>6199</th>\n",
       "      <td>9756</td>\n",
       "      <td>4</td>\n",
       "      <td>So she saying she will take the test next year.</td>\n",
       "      <td>0.333333</td>\n",
       "      <td>source dependent responses</td>\n",
       "      <td>10</td>\n",
       "      <td>So she saying she will take the test next year.</td>\n",
       "    </tr>\n",
       "    <tr>\n",
       "      <th>6313</th>\n",
       "      <td>9870</td>\n",
       "      <td>4</td>\n",
       "      <td>Reserved need to check keenly</td>\n",
       "      <td>1.000000</td>\n",
       "      <td>source dependent responses</td>\n",
       "      <td>10</td>\n",
       "      <td>Reserved need to check keenly</td>\n",
       "    </tr>\n",
       "    <tr>\n",
       "      <th>6444</th>\n",
       "      <td>10001</td>\n",
       "      <td>4</td>\n",
       "      <td>NO IMAGE</td>\n",
       "      <td>0.333333</td>\n",
       "      <td>source dependent responses</td>\n",
       "      <td>10</td>\n",
       "      <td>NO IMAGE</td>\n",
       "    </tr>\n",
       "    <tr>\n",
       "      <th>6574</th>\n",
       "      <td>10131</td>\n",
       "      <td>4</td>\n",
       "      <td>The Author concludes the with paragraph becaus...</td>\n",
       "      <td>0.000000</td>\n",
       "      <td>source dependent responses</td>\n",
       "      <td>10</td>\n",
       "      <td>The Author concludes the with paragraph becaus...</td>\n",
       "    </tr>\n",
       "  </tbody>\n",
       "</table>\n",
       "</div>"
      ],
      "text/plain": [
       "      essay_id  essay_set                                              essay  \\\n",
       "356        359          1    Being active has no limit, but technology does.   \n",
       "3998      6394          3  He race trying to get yosemitre for some rushi...   \n",
       "4556      6954          3  During this essay the author is talking about ...   \n",
       "4825      7223          3  The features of the setting affected the cycli...   \n",
       "5532      9086          4      So she did not forget to take the test again.   \n",
       "5930      9486          4                Saeng would return to her homeland.   \n",
       "6199      9756          4    So she saying she will take the test next year.   \n",
       "6313      9870          4                      Reserved need to check keenly   \n",
       "6444     10001          4                                           NO IMAGE   \n",
       "6574     10131          4  The Author concludes the with paragraph becaus...   \n",
       "\n",
       "         score                         type_of_essay  grade_level  \\\n",
       "356   0.000000  persuasive / narrative  / expository            8   \n",
       "3998  0.333333            source dependent responses           10   \n",
       "4556  0.333333            source dependent responses           10   \n",
       "4825  0.333333            source dependent responses           10   \n",
       "5532  0.333333            source dependent responses           10   \n",
       "5930  0.000000            source dependent responses           10   \n",
       "6199  0.333333            source dependent responses           10   \n",
       "6313  1.000000            source dependent responses           10   \n",
       "6444  0.333333            source dependent responses           10   \n",
       "6574  0.000000            source dependent responses           10   \n",
       "\n",
       "                                            essay_clean  \n",
       "356     Being active has no limit, but technology does.  \n",
       "3998  He race trying to get yosemitre for some rushi...  \n",
       "4556  During this essay the author is talking about ...  \n",
       "4825  The features of the setting affected the cycli...  \n",
       "5532      So she did not forget to take the test again.  \n",
       "5930                Saeng would return to her homeland.  \n",
       "6199    So she saying she will take the test next year.  \n",
       "6313                      Reserved need to check keenly  \n",
       "6444                                           NO IMAGE  \n",
       "6574  The Author concludes the with paragraph becaus...  "
      ]
     },
     "execution_count": 81,
     "metadata": {},
     "output_type": "execute_result"
    }
   ],
   "source": [
    "df[df['essay_clean'].str.count(' ')<10][:10]"
   ]
  },
  {
   "cell_type": "code",
   "execution_count": null,
   "metadata": {
    "collapsed": true
   },
   "outputs": [],
   "source": []
  },
  {
   "cell_type": "code",
   "execution_count": 82,
   "metadata": {},
   "outputs": [
    {
     "data": {
      "text/plain": [
       "count    12977.000000\n",
       "mean      1235.375742\n",
       "std        981.826316\n",
       "min          8.000000\n",
       "25%        532.000000\n",
       "50%        911.000000\n",
       "75%       1698.000000\n",
       "max       6158.000000\n",
       "Name: essay_clean, dtype: float64"
      ]
     },
     "execution_count": 82,
     "metadata": {},
     "output_type": "execute_result"
    }
   ],
   "source": [
    "df['essay_clean'].str.len().describe()"
   ]
  },
  {
   "cell_type": "code",
   "execution_count": 83,
   "metadata": {},
   "outputs": [
    {
     "data": {
      "text/plain": [
       "<matplotlib.axes._subplots.AxesSubplot at 0x7f02ed18d668>"
      ]
     },
     "execution_count": 83,
     "metadata": {},
     "output_type": "execute_result"
    },
    {
     "data": {
      "image/png": "[encoded data removed]",
      "text/plain": [
       "<matplotlib.figure.Figure at 0x7f02ed1fd240>"
      ]
     },
     "metadata": {},
     "output_type": "display_data"
    }
   ],
   "source": [
    "df['essay_clean'].str.len().hist()"
   ]
  },
  {
   "cell_type": "code",
   "execution_count": null,
   "metadata": {
    "collapsed": true
   },
   "outputs": [],
   "source": []
  },
  {
   "cell_type": "code",
   "execution_count": 84,
   "metadata": {},
   "outputs": [
    {
     "data": {
      "text/plain": [
       "count    12977.000000\n",
       "mean       226.045773\n",
       "std        180.600845\n",
       "min          1.000000\n",
       "25%         98.000000\n",
       "50%        164.000000\n",
       "75%        315.000000\n",
       "max       1118.000000\n",
       "Name: essay_clean, dtype: float64"
      ]
     },
     "execution_count": 84,
     "metadata": {},
     "output_type": "execute_result"
    }
   ],
   "source": [
    "df['essay_clean'].str.count(' ').describe()"
   ]
  },
  {
   "cell_type": "code",
   "execution_count": 85,
   "metadata": {},
   "outputs": [
    {
     "data": {
      "text/plain": [
       "<matplotlib.axes._subplots.AxesSubplot at 0x7f02ed18d780>"
      ]
     },
     "execution_count": 85,
     "metadata": {},
     "output_type": "execute_result"
    },
    {
     "data": {
      "image/png": "[encoded data removed]",
      "text/plain": [
       "<matplotlib.figure.Figure at 0x7f02ed1495c0>"
      ]
     },
     "metadata": {},
     "output_type": "display_data"
    }
   ],
   "source": [
    "df['essay_clean'].str.count(' ').hist()"
   ]
  },
  {
   "cell_type": "code",
   "execution_count": null,
   "metadata": {
    "collapsed": true
   },
   "outputs": [],
   "source": []
  },
  {
   "cell_type": "code",
   "execution_count": 86,
   "metadata": {},
   "outputs": [
    {
     "data": {
      "text/plain": [
       "(12977, 7)"
      ]
     },
     "execution_count": 86,
     "metadata": {},
     "output_type": "execute_result"
    }
   ],
   "source": [
    "df[df['essay_clean'].str.count(' ') > 0].shape"
   ]
  },
  {
   "cell_type": "code",
   "execution_count": 87,
   "metadata": {},
   "outputs": [
    {
     "data": {
      "text/plain": [
       "(12858, 7)"
      ]
     },
     "execution_count": 87,
     "metadata": {},
     "output_type": "execute_result"
    }
   ],
   "source": [
    "df[(df['essay_clean'].str.count(' ')>20)].shape"
   ]
  },
  {
   "cell_type": "code",
   "execution_count": 88,
   "metadata": {},
   "outputs": [
    {
     "data": {
      "text/plain": [
       "count    12858.000000\n",
       "mean      1246.043786\n",
       "std        980.044154\n",
       "min        100.000000\n",
       "25%        543.000000\n",
       "50%        919.000000\n",
       "75%       1709.000000\n",
       "max       6158.000000\n",
       "Name: essay_clean, dtype: float64"
      ]
     },
     "execution_count": 88,
     "metadata": {},
     "output_type": "execute_result"
    }
   ],
   "source": [
    "df[(df['essay_clean'].str.count(' ')>20)]['essay_clean'].str.len().describe()\n"
   ]
  },
  {
   "cell_type": "code",
   "execution_count": 89,
   "metadata": {},
   "outputs": [
    {
     "data": {
      "text/plain": [
       "<matplotlib.axes._subplots.AxesSubplot at 0x7f02ed188b70>"
      ]
     },
     "execution_count": 89,
     "metadata": {},
     "output_type": "execute_result"
    },
    {
     "data": {
      "image/png": "[encoded data removed]",
      "text/plain": [
       "<matplotlib.figure.Figure at 0x7f02ed0d9390>"
      ]
     },
     "metadata": {},
     "output_type": "display_data"
    }
   ],
   "source": [
    "df[(df['essay_clean'].str.count(' ')>20)]['essay_clean'].str.len().hist()"
   ]
  },
  {
   "cell_type": "code",
   "execution_count": null,
   "metadata": {
    "collapsed": true
   },
   "outputs": [],
   "source": []
  },
  {
   "cell_type": "markdown",
   "metadata": {},
   "source": [
    "# one hot encode for other features\n"
   ]
  },
  {
   "cell_type": "code",
   "execution_count": 90,
   "metadata": {
    "collapsed": true
   },
   "outputs": [],
   "source": [
    "df['type_of_essay_encode'] = df['type_of_essay'].str.replace(\n",
    "    'persuasive / narrative  / expository', '0', case=True, regex=False)\n",
    "\n",
    "df['type_of_essay_encode'] = df['type_of_essay_encode'].str.replace(\n",
    "    'source dependent responses', '1', case=True, regex=False)"
   ]
  },
  {
   "cell_type": "code",
   "execution_count": 91,
   "metadata": {
    "collapsed": true
   },
   "outputs": [],
   "source": [
    "df['type_of_essay_encode'] = df['type_of_essay_encode'].astype(int)"
   ]
  },
  {
   "cell_type": "code",
   "execution_count": null,
   "metadata": {
    "collapsed": true
   },
   "outputs": [],
   "source": []
  },
  {
   "cell_type": "code",
   "execution_count": 92,
   "metadata": {},
   "outputs": [
    {
     "data": {
      "text/plain": [
       "1    7102\n",
       "0    5875\n",
       "Name: type_of_essay_encode, dtype: int64"
      ]
     },
     "execution_count": 92,
     "metadata": {},
     "output_type": "execute_result"
    }
   ],
   "source": [
    "df['type_of_essay_encode'].value_counts()"
   ]
  },
  {
   "cell_type": "code",
   "execution_count": 93,
   "metadata": {},
   "outputs": [
    {
     "data": {
      "text/plain": [
       "10    7820\n",
       "8     3588\n",
       "7     1569\n",
       "Name: grade_level, dtype: int64"
      ]
     },
     "execution_count": 93,
     "metadata": {},
     "output_type": "execute_result"
    }
   ],
   "source": [
    "df['grade_level'].value_counts()"
   ]
  },
  {
   "cell_type": "code",
   "execution_count": 94,
   "metadata": {},
   "outputs": [
    {
     "data": {
      "text/html": [
       "<div>\n",
       "<style scoped>\n",
       "    .dataframe tbody tr th:only-of-type {\n",
       "        vertical-align: middle;\n",
       "    }\n",
       "\n",
       "    .dataframe tbody tr th {\n",
       "        vertical-align: top;\n",
       "    }\n",
       "\n",
       "    .dataframe thead th {\n",
       "        text-align: right;\n",
       "    }\n",
       "</style>\n",
       "<table border=\"1\" class=\"dataframe\">\n",
       "  <thead>\n",
       "    <tr style=\"text-align: right;\">\n",
       "      <th></th>\n",
       "      <th>level_7</th>\n",
       "      <th>level_8</th>\n",
       "      <th>level_10</th>\n",
       "    </tr>\n",
       "  </thead>\n",
       "  <tbody>\n",
       "    <tr>\n",
       "      <th>0</th>\n",
       "      <td>0</td>\n",
       "      <td>1</td>\n",
       "      <td>0</td>\n",
       "    </tr>\n",
       "    <tr>\n",
       "      <th>1</th>\n",
       "      <td>0</td>\n",
       "      <td>1</td>\n",
       "      <td>0</td>\n",
       "    </tr>\n",
       "    <tr>\n",
       "      <th>2</th>\n",
       "      <td>0</td>\n",
       "      <td>1</td>\n",
       "      <td>0</td>\n",
       "    </tr>\n",
       "  </tbody>\n",
       "</table>\n",
       "</div>"
      ],
      "text/plain": [
       "   level_7  level_8  level_10\n",
       "0        0        1         0\n",
       "1        0        1         0\n",
       "2        0        1         0"
      ]
     },
     "execution_count": 94,
     "metadata": {},
     "output_type": "execute_result"
    }
   ],
   "source": [
    "pd.get_dummies(df['grade_level'], prefix='level').head(3)"
   ]
  },
  {
   "cell_type": "code",
   "execution_count": null,
   "metadata": {
    "collapsed": true
   },
   "outputs": [],
   "source": []
  },
  {
   "cell_type": "code",
   "execution_count": null,
   "metadata": {
    "collapsed": true
   },
   "outputs": [],
   "source": []
  },
  {
   "cell_type": "markdown",
   "metadata": {},
   "source": [
    "# Separate text data"
   ]
  },
  {
   "cell_type": "code",
   "execution_count": 95,
   "metadata": {
    "collapsed": true
   },
   "outputs": [],
   "source": [
    "def save_essay_to_txt(row):\n",
    "    with open('./data/essay/'+str(row['essay_id'])+'.txt', 'w') as f:\n",
    "        f.write(row['essay_clean'])"
   ]
  },
  {
   "cell_type": "code",
   "execution_count": 96,
   "metadata": {},
   "outputs": [
    {
     "name": "stdout",
     "output_type": "stream",
     "text": [
      "Finished.\n"
     ]
    }
   ],
   "source": [
    "df.apply(save_essay_to_txt, axis=1)\n",
    "print('Finished.')"
   ]
  },
  {
   "cell_type": "code",
   "execution_count": 97,
   "metadata": {
    "collapsed": true
   },
   "outputs": [],
   "source": [
    "df['filepath'] = './data/essay/'+df['essay_id'].astype(str)+'.txt'\n",
    "df['filepath_tokenized'] = './data/essay_tokenized/'+df['essay_id'].astype(str)+'.txt'"
   ]
  },
  {
   "cell_type": "code",
   "execution_count": 98,
   "metadata": {
    "collapsed": true
   },
   "outputs": [],
   "source": [
    "with open(\"mapping.txt\", \"w\") as f:\n",
    "    for fp, fpt in zip(df['filepath'], df['filepath_tokenized']):\n",
    "        f.write(\"{} \\t {}\\n\".format(fp, fpt))"
   ]
  },
  {
   "cell_type": "code",
   "execution_count": null,
   "metadata": {
    "collapsed": true
   },
   "outputs": [],
   "source": []
  },
  {
   "cell_type": "markdown",
   "metadata": {},
   "source": [
    "# Run tokenizer in terminal\n",
    "``` bash\n",
    "export CLASSPATH=~/stanford-corenlp/stanford-corenlp-full-2018-02-27/stanford-corenlp-3.9.1.jar\n",
    "\n",
    "java edu.stanford.nlp.process.PTBTokenizer -ioFileList -preserveLines -options \"normalizeParentheses=False,normalizeOtherBrackets=False\" mapping.txt\n",
    "```"
   ]
  },
  {
   "cell_type": "markdown",
   "metadata": {},
   "source": [
    "# load tokenized files"
   ]
  },
  {
   "cell_type": "code",
   "execution_count": 99,
   "metadata": {
    "collapsed": true
   },
   "outputs": [],
   "source": [
    "def load_tokenized(row):\n",
    "    with open(row['filepath_tokenized'], 'r') as f:\n",
    "        return f.read()"
   ]
  },
  {
   "cell_type": "code",
   "execution_count": 100,
   "metadata": {},
   "outputs": [
    {
     "name": "stdout",
     "output_type": "stream",
     "text": [
      "Finished.\n"
     ]
    }
   ],
   "source": [
    "df['essay_tokenized'] = df.apply(load_tokenized, axis=1)\n",
    "print('Finished.')"
   ]
  },
  {
   "cell_type": "code",
   "execution_count": 101,
   "metadata": {},
   "outputs": [
    {
     "data": {
      "text/html": [
       "<div>\n",
       "<style scoped>\n",
       "    .dataframe tbody tr th:only-of-type {\n",
       "        vertical-align: middle;\n",
       "    }\n",
       "\n",
       "    .dataframe tbody tr th {\n",
       "        vertical-align: top;\n",
       "    }\n",
       "\n",
       "    .dataframe thead th {\n",
       "        text-align: right;\n",
       "    }\n",
       "</style>\n",
       "<table border=\"1\" class=\"dataframe\">\n",
       "  <thead>\n",
       "    <tr style=\"text-align: right;\">\n",
       "      <th></th>\n",
       "      <th>essay_id</th>\n",
       "      <th>essay_set</th>\n",
       "      <th>essay</th>\n",
       "      <th>score</th>\n",
       "      <th>type_of_essay</th>\n",
       "      <th>grade_level</th>\n",
       "      <th>essay_clean</th>\n",
       "      <th>type_of_essay_encode</th>\n",
       "      <th>filepath</th>\n",
       "      <th>filepath_tokenized</th>\n",
       "      <th>essay_tokenized</th>\n",
       "    </tr>\n",
       "  </thead>\n",
       "  <tbody>\n",
       "    <tr>\n",
       "      <th>0</th>\n",
       "      <td>1</td>\n",
       "      <td>1</td>\n",
       "      <td>Dear local newspaper, I think effects computer...</td>\n",
       "      <td>0.6</td>\n",
       "      <td>persuasive / narrative  / expository</td>\n",
       "      <td>8</td>\n",
       "      <td>Dear local newspaper, I think effects computer...</td>\n",
       "      <td>0</td>\n",
       "      <td>./data/essay/1.txt</td>\n",
       "      <td>./data/essay_tokenized/1.txt</td>\n",
       "      <td>Dear local newspaper , I think effects compute...</td>\n",
       "    </tr>\n",
       "    <tr>\n",
       "      <th>1</th>\n",
       "      <td>2</td>\n",
       "      <td>1</td>\n",
       "      <td>Dear @CAPS1 @CAPS2, I believe that using compu...</td>\n",
       "      <td>0.7</td>\n",
       "      <td>persuasive / narrative  / expository</td>\n",
       "      <td>8</td>\n",
       "      <td>Dear LABEL_CAPS LABEL_CAPS, I believe that usi...</td>\n",
       "      <td>0</td>\n",
       "      <td>./data/essay/2.txt</td>\n",
       "      <td>./data/essay_tokenized/2.txt</td>\n",
       "      <td>Dear LABEL_CAPS LABEL_CAPS , I believe that us...</td>\n",
       "    </tr>\n",
       "  </tbody>\n",
       "</table>\n",
       "</div>"
      ],
      "text/plain": [
       "   essay_id  essay_set                                              essay  \\\n",
       "0         1          1  Dear local newspaper, I think effects computer...   \n",
       "1         2          1  Dear @CAPS1 @CAPS2, I believe that using compu...   \n",
       "\n",
       "   score                         type_of_essay  grade_level  \\\n",
       "0    0.6  persuasive / narrative  / expository            8   \n",
       "1    0.7  persuasive / narrative  / expository            8   \n",
       "\n",
       "                                         essay_clean  type_of_essay_encode  \\\n",
       "0  Dear local newspaper, I think effects computer...                     0   \n",
       "1  Dear LABEL_CAPS LABEL_CAPS, I believe that usi...                     0   \n",
       "\n",
       "             filepath            filepath_tokenized  \\\n",
       "0  ./data/essay/1.txt  ./data/essay_tokenized/1.txt   \n",
       "1  ./data/essay/2.txt  ./data/essay_tokenized/2.txt   \n",
       "\n",
       "                                     essay_tokenized  \n",
       "0  Dear local newspaper , I think effects compute...  \n",
       "1  Dear LABEL_CAPS LABEL_CAPS , I believe that us...  "
      ]
     },
     "execution_count": 101,
     "metadata": {},
     "output_type": "execute_result"
    }
   ],
   "source": [
    "df.head(2)"
   ]
  },
  {
   "cell_type": "code",
   "execution_count": null,
   "metadata": {
    "collapsed": true
   },
   "outputs": [],
   "source": []
  },
  {
   "cell_type": "code",
   "execution_count": null,
   "metadata": {
    "collapsed": true
   },
   "outputs": [],
   "source": []
  },
  {
   "cell_type": "markdown",
   "metadata": {},
   "source": [
    "# Prepare data"
   ]
  },
  {
   "cell_type": "code",
   "execution_count": 102,
   "metadata": {
    "collapsed": true
   },
   "outputs": [],
   "source": [
    "MAX_LEN = 400\n",
    "VOCAB_SIZE = 5000"
   ]
  },
  {
   "cell_type": "code",
   "execution_count": 103,
   "metadata": {
    "collapsed": true
   },
   "outputs": [],
   "source": [
    "df_train, df_test = train_test_split(df, test_size=0.2, random_state=123)"
   ]
  },
  {
   "cell_type": "code",
   "execution_count": 104,
   "metadata": {
    "collapsed": true
   },
   "outputs": [],
   "source": [
    "# tk = Tokenizer(num_words=VOCAB_SIZE+1, oov_token='UNK')\n",
    "tk = Tokenizer(num_words=VOCAB_SIZE)\n",
    "# tk = Tokenizer(oov_token='UNK')\n",
    "tk.fit_on_texts(df['essay_tokenized'])"
   ]
  },
  {
   "cell_type": "code",
   "execution_count": 105,
   "metadata": {
    "collapsed": true
   },
   "outputs": [],
   "source": [
    "# saving\n",
    "with open('tokenizer.pickle', 'wb') as handle:\n",
    "    pickle.dump(tk, handle, protocol=pickle.HIGHEST_PROTOCOL)\n",
    "\n",
    "# # loading\n",
    "# with open('tokenizer.pickle', 'rb') as handle:\n",
    "#     tokenizer = pickle.load(handle)"
   ]
  },
  {
   "cell_type": "code",
   "execution_count": null,
   "metadata": {
    "collapsed": true
   },
   "outputs": [],
   "source": []
  },
  {
   "cell_type": "code",
   "execution_count": 106,
   "metadata": {},
   "outputs": [
    {
     "name": "stdout",
     "output_type": "stream",
     "text": [
      "Found 38148 unique tokens\n"
     ]
    }
   ],
   "source": [
    "word_index = tk.word_index\n",
    "print('Found %s unique tokens' % len(word_index))"
   ]
  },
  {
   "cell_type": "code",
   "execution_count": 107,
   "metadata": {},
   "outputs": [
    {
     "name": "stdout",
     "output_type": "stream",
     "text": [
      "G Word embeddings: 400001\n"
     ]
    }
   ],
   "source": [
    "#load glove embeddings\n",
    "gembeddings_index = {}\n",
    "with codecs.open('glove.6B.100d.txt', encoding='utf-8') as f:\n",
    "    for line in f:\n",
    "        values = line.split(' ')\n",
    "        word = values[0]\n",
    "        gembedding = np.asarray(values[1:], dtype='float32')\n",
    "        gembeddings_index[word] = gembedding\n",
    "#\n",
    "f.close()\n",
    "print('G Word embeddings:', len(gembeddings_index))"
   ]
  },
  {
   "cell_type": "code",
   "execution_count": 108,
   "metadata": {},
   "outputs": [
    {
     "name": "stdout",
     "output_type": "stream",
     "text": [
      "(5001, 100)\n"
     ]
    }
   ],
   "source": [
    "#get glove embeddings for each word in tokenizer.\n",
    "#g_word_embedding_matrix holds the embeddings dictionary\n",
    "g_word_embedding_matrix = np.zeros((VOCAB_SIZE+1, 100))\n",
    "\n",
    "for word, i in word_index.items():\n",
    "    if i > VOCAB_SIZE:\n",
    "        continue\n",
    "    gembedding_vector = gembeddings_index.get(word)\n",
    "    if gembedding_vector is not None:\n",
    "        g_word_embedding_matrix[i] = gembedding_vector\n",
    "        \n",
    "#total words in the tokenizer not in Embedding matrix\n",
    "# print('G Null word embeddings: %d' % np.sum(np.sum(g_word_embedding_matrix, axis=1) == 0))\n",
    "print(g_word_embedding_matrix.shape)"
   ]
  },
  {
   "cell_type": "code",
   "execution_count": 109,
   "metadata": {
    "collapsed": true
   },
   "outputs": [],
   "source": [
    "encoded_docs_train = tk.texts_to_sequences(df_train['essay_tokenized'])\n",
    "padded_docs_train = pad_sequences(encoded_docs_train, maxlen=MAX_LEN, padding='post')\n"
   ]
  },
  {
   "cell_type": "code",
   "execution_count": 110,
   "metadata": {},
   "outputs": [
    {
     "data": {
      "text/plain": [
       "(10381, 400)"
      ]
     },
     "execution_count": 110,
     "metadata": {},
     "output_type": "execute_result"
    }
   ],
   "source": [
    "padded_docs_train.shape"
   ]
  },
  {
   "cell_type": "code",
   "execution_count": 111,
   "metadata": {
    "collapsed": true
   },
   "outputs": [],
   "source": [
    "gl_train = np.concatenate((np.array(pd.get_dummies(df_train['grade_level'], prefix='level')), \n",
    "                           np.array(df_train['type_of_essay_encode']).reshape((-1, 1))), axis=1)"
   ]
  },
  {
   "cell_type": "code",
   "execution_count": 112,
   "metadata": {},
   "outputs": [
    {
     "data": {
      "text/plain": [
       "(10381, 4)"
      ]
     },
     "execution_count": 112,
     "metadata": {},
     "output_type": "execute_result"
    }
   ],
   "source": [
    "gl_train.shape"
   ]
  },
  {
   "cell_type": "code",
   "execution_count": 113,
   "metadata": {
    "collapsed": true
   },
   "outputs": [],
   "source": [
    "y_train = df_train.score"
   ]
  },
  {
   "cell_type": "code",
   "execution_count": null,
   "metadata": {
    "collapsed": true
   },
   "outputs": [],
   "source": []
  },
  {
   "cell_type": "code",
   "execution_count": 126,
   "metadata": {},
   "outputs": [
    {
     "name": "stdout",
     "output_type": "stream",
     "text": [
      "__________________________________________________________________________________________________\n",
      "Layer (type)                    Output Shape         Param #     Connected to                     \n",
      "==================================================================================================\n",
      "input_10 (InputLayer)           (None, 400)          0                                            \n",
      "__________________________________________________________________________________________________\n",
      "embedding_7 (Embedding)         (None, 400, 100)     500100      input_10[0][0]                   \n",
      "__________________________________________________________________________________________________\n",
      "lstm_7 (LSTM)                   (None, 400)          801600      embedding_7[0][0]                \n",
      "__________________________________________________________________________________________________\n",
      "input_11 (InputLayer)           (None, 4)            0                                            \n",
      "__________________________________________________________________________________________________\n",
      "concatenate_4 (Concatenate)     (None, 404)          0           lstm_7[0][0]                     \n",
      "                                                                 input_11[0][0]                   \n",
      "__________________________________________________________________________________________________\n",
      "dropout_7 (Dropout)             (None, 404)          0           concatenate_4[0][0]              \n",
      "__________________________________________________________________________________________________\n",
      "dense_7 (Dense)                 (None, 1)            405         dropout_7[0][0]                  \n",
      "__________________________________________________________________________________________________\n",
      "activation_7 (Activation)       (None, 1)            0           dense_7[0][0]                    \n",
      "==================================================================================================\n",
      "Total params: 1,302,105\n",
      "Trainable params: 802,005\n",
      "Non-trainable params: 500,100\n",
      "__________________________________________________________________________________________________\n"
     ]
    }
   ],
   "source": [
    "def create_lstm_pre_gl():\n",
    "    itext = Input(shape=(MAX_LEN,))\n",
    "    embed = Embedding(VOCAB_SIZE+1, 100, \n",
    "                      embeddings_initializer=Constant(g_word_embedding_matrix),\n",
    "                      input_length=MAX_LEN, trainable=False)(itext)\n",
    "    lstm = LSTM(MAX_LEN, dropout=0.3, recurrent_dropout=0.3)(embed)\n",
    "    \n",
    "    igl = Input(shape=(4,))\n",
    "    \n",
    "    conc = concatenate([lstm, igl])\n",
    "    \n",
    "    drop = Dropout(0.6)(conc)\n",
    "    dens = Dense(1)(drop)\n",
    "    acti = Activation('sigmoid')(dens)\n",
    "    \n",
    "    model = Model([itext, igl], acti)\n",
    "    model.compile(loss='mse', optimizer='adam', metrics=['mae'])\n",
    "    return model\n",
    "\n",
    "model_lstm_pre_gl = create_lstm_pre_gl()\n",
    "model_lstm_pre_gl.summary()"
   ]
  },
  {
   "cell_type": "code",
   "execution_count": 127,
   "metadata": {
    "scrolled": true
   },
   "outputs": [
    {
     "name": "stdout",
     "output_type": "stream",
     "text": [
      "Train on 8304 samples, validate on 2077 samples\n",
      "Epoch 1/100\n",
      "8304/8304 [==============================] - 99s 12ms/step - loss: 0.0652 - mean_absolute_error: 0.2070 - val_loss: 0.0620 - val_mean_absolute_error: 0.2006\n",
      "Epoch 2/100\n",
      "8304/8304 [==============================] - 97s 12ms/step - loss: 0.0598 - mean_absolute_error: 0.1969 - val_loss: 0.0589 - val_mean_absolute_error: 0.1966\n",
      "Epoch 3/100\n",
      "8304/8304 [==============================] - 97s 12ms/step - loss: 0.0574 - mean_absolute_error: 0.1924 - val_loss: 0.0573 - val_mean_absolute_error: 0.1927\n",
      "Epoch 4/100\n",
      "8304/8304 [==============================] - 97s 12ms/step - loss: 0.0569 - mean_absolute_error: 0.1887 - val_loss: 0.0567 - val_mean_absolute_error: 0.1910\n",
      "Epoch 5/100\n",
      "8304/8304 [==============================] - 97s 12ms/step - loss: 0.0565 - mean_absolute_error: 0.1890 - val_loss: 0.0568 - val_mean_absolute_error: 0.1919\n",
      "Epoch 6/100\n",
      "8304/8304 [==============================] - 97s 12ms/step - loss: 0.0566 - mean_absolute_error: 0.1899 - val_loss: 0.0568 - val_mean_absolute_error: 0.1920\n",
      "Epoch 7/100\n",
      "8304/8304 [==============================] - 97s 12ms/step - loss: 0.0558 - mean_absolute_error: 0.1882 - val_loss: 0.0566 - val_mean_absolute_error: 0.1915\n",
      "Epoch 8/100\n",
      "8304/8304 [==============================] - 97s 12ms/step - loss: 0.0561 - mean_absolute_error: 0.1883 - val_loss: 0.0561 - val_mean_absolute_error: 0.1889\n",
      "Epoch 9/100\n",
      "8304/8304 [==============================] - 97s 12ms/step - loss: 0.0560 - mean_absolute_error: 0.1866 - val_loss: 0.0563 - val_mean_absolute_error: 0.1905\n",
      "Epoch 10/100\n",
      "8304/8304 [==============================] - 97s 12ms/step - loss: 0.0558 - mean_absolute_error: 0.1879 - val_loss: 0.0564 - val_mean_absolute_error: 0.1909\n",
      "Epoch 11/100\n",
      "8304/8304 [==============================] - 97s 12ms/step - loss: 0.0557 - mean_absolute_error: 0.1877 - val_loss: 0.0562 - val_mean_absolute_error: 0.1904\n",
      "Epoch 12/100\n",
      "8304/8304 [==============================] - 97s 12ms/step - loss: 0.0555 - mean_absolute_error: 0.1872 - val_loss: 0.0563 - val_mean_absolute_error: 0.1908\n",
      "Epoch 13/100\n",
      "8304/8304 [==============================] - 97s 12ms/step - loss: 0.0556 - mean_absolute_error: 0.1871 - val_loss: 0.0560 - val_mean_absolute_error: 0.1891\n",
      "Epoch 14/100\n",
      "8304/8304 [==============================] - 97s 12ms/step - loss: 0.0556 - mean_absolute_error: 0.1862 - val_loss: 0.0561 - val_mean_absolute_error: 0.1901\n",
      "Epoch 15/100\n",
      "8304/8304 [==============================] - 97s 12ms/step - loss: 0.0554 - mean_absolute_error: 0.1870 - val_loss: 0.0565 - val_mean_absolute_error: 0.1913\n",
      "Epoch 16/100\n",
      "8304/8304 [==============================] - 97s 12ms/step - loss: 0.0556 - mean_absolute_error: 0.1880 - val_loss: 0.0561 - val_mean_absolute_error: 0.1899\n",
      "Epoch 17/100\n",
      "8304/8304 [==============================] - 99s 12ms/step - loss: 0.0556 - mean_absolute_error: 0.1861 - val_loss: 0.0560 - val_mean_absolute_error: 0.1890\n",
      "Epoch 18/100\n",
      "8304/8304 [==============================] - 98s 12ms/step - loss: 0.0556 - mean_absolute_error: 0.1875 - val_loss: 0.0562 - val_mean_absolute_error: 0.1904\n",
      "Epoch 19/100\n",
      "8304/8304 [==============================] - 97s 12ms/step - loss: 0.0553 - mean_absolute_error: 0.1870 - val_loss: 0.0561 - val_mean_absolute_error: 0.1898\n",
      "Epoch 20/100\n",
      "8304/8304 [==============================] - 97s 12ms/step - loss: 0.0554 - mean_absolute_error: 0.1875 - val_loss: 0.0560 - val_mean_absolute_error: 0.1893\n",
      "Epoch 21/100\n",
      "8304/8304 [==============================] - 97s 12ms/step - loss: 0.0551 - mean_absolute_error: 0.1857 - val_loss: 0.0559 - val_mean_absolute_error: 0.1894\n",
      "Epoch 22/100\n",
      "8304/8304 [==============================] - 97s 12ms/step - loss: 0.0554 - mean_absolute_error: 0.1872 - val_loss: 0.0561 - val_mean_absolute_error: 0.1905\n",
      "Epoch 23/100\n",
      "8304/8304 [==============================] - 97s 12ms/step - loss: 0.0552 - mean_absolute_error: 0.1868 - val_loss: 0.0560 - val_mean_absolute_error: 0.1894\n",
      "Epoch 24/100\n",
      "8304/8304 [==============================] - 97s 12ms/step - loss: 0.0553 - mean_absolute_error: 0.1861 - val_loss: 0.0561 - val_mean_absolute_error: 0.1903\n",
      "Epoch 25/100\n",
      "8304/8304 [==============================] - 97s 12ms/step - loss: 0.0555 - mean_absolute_error: 0.1882 - val_loss: 0.0569 - val_mean_absolute_error: 0.1927\n",
      "Epoch 26/100\n",
      "8304/8304 [==============================] - 97s 12ms/step - loss: 0.0554 - mean_absolute_error: 0.1878 - val_loss: 0.0562 - val_mean_absolute_error: 0.1902\n",
      "Epoch 27/100\n",
      "8304/8304 [==============================] - 97s 12ms/step - loss: 0.0552 - mean_absolute_error: 0.1861 - val_loss: 0.0556 - val_mean_absolute_error: 0.1884\n",
      "Epoch 28/100\n",
      "8304/8304 [==============================] - 97s 12ms/step - loss: 0.0551 - mean_absolute_error: 0.1859 - val_loss: 0.0558 - val_mean_absolute_error: 0.1890\n",
      "Epoch 29/100\n",
      "8304/8304 [==============================] - 97s 12ms/step - loss: 0.0549 - mean_absolute_error: 0.1861 - val_loss: 0.0559 - val_mean_absolute_error: 0.1890\n",
      "Epoch 30/100\n",
      "8304/8304 [==============================] - 97s 12ms/step - loss: 0.0550 - mean_absolute_error: 0.1856 - val_loss: 0.0556 - val_mean_absolute_error: 0.1877\n",
      "Epoch 31/100\n",
      "8304/8304 [==============================] - 97s 12ms/step - loss: 0.0550 - mean_absolute_error: 0.1852 - val_loss: 0.0556 - val_mean_absolute_error: 0.1883\n",
      "Epoch 32/100\n",
      "8304/8304 [==============================] - 97s 12ms/step - loss: 0.0548 - mean_absolute_error: 0.1858 - val_loss: 0.0558 - val_mean_absolute_error: 0.1887\n",
      "Epoch 33/100\n",
      "8304/8304 [==============================] - 97s 12ms/step - loss: 0.0549 - mean_absolute_error: 0.1856 - val_loss: 0.0553 - val_mean_absolute_error: 0.1867\n",
      "Epoch 34/100\n",
      "8304/8304 [==============================] - 97s 12ms/step - loss: 0.0549 - mean_absolute_error: 0.1849 - val_loss: 0.0555 - val_mean_absolute_error: 0.1877\n",
      "Epoch 35/100\n",
      "8304/8304 [==============================] - 97s 12ms/step - loss: 0.0549 - mean_absolute_error: 0.1854 - val_loss: 0.0558 - val_mean_absolute_error: 0.1890\n",
      "Epoch 36/100\n",
      "8304/8304 [==============================] - 97s 12ms/step - loss: 0.0548 - mean_absolute_error: 0.1860 - val_loss: 0.0558 - val_mean_absolute_error: 0.1887\n",
      "Epoch 37/100\n",
      "8304/8304 [==============================] - 97s 12ms/step - loss: 0.0549 - mean_absolute_error: 0.1859 - val_loss: 0.0555 - val_mean_absolute_error: 0.1875\n",
      "Epoch 38/100\n",
      "8304/8304 [==============================] - 97s 12ms/step - loss: 0.0550 - mean_absolute_error: 0.1850 - val_loss: 0.0557 - val_mean_absolute_error: 0.1889\n",
      "Epoch 39/100\n",
      "8304/8304 [==============================] - 98s 12ms/step - loss: 0.0551 - mean_absolute_error: 0.1868 - val_loss: 0.0556 - val_mean_absolute_error: 0.1886\n",
      "Epoch 40/100\n",
      "8304/8304 [==============================] - 97s 12ms/step - loss: 0.0551 - mean_absolute_error: 0.1858 - val_loss: 0.0555 - val_mean_absolute_error: 0.1876\n",
      "Epoch 41/100\n",
      "8304/8304 [==============================] - 97s 12ms/step - loss: 0.0549 - mean_absolute_error: 0.1853 - val_loss: 0.0557 - val_mean_absolute_error: 0.1884\n",
      "Epoch 42/100\n",
      "8304/8304 [==============================] - 97s 12ms/step - loss: 0.0548 - mean_absolute_error: 0.1855 - val_loss: 0.0555 - val_mean_absolute_error: 0.1880\n",
      "Epoch 43/100\n",
      "8304/8304 [==============================] - 97s 12ms/step - loss: 0.0548 - mean_absolute_error: 0.1853 - val_loss: 0.0552 - val_mean_absolute_error: 0.1867\n",
      "Epoch 44/100\n",
      "8304/8304 [==============================] - 97s 12ms/step - loss: 0.0548 - mean_absolute_error: 0.1850 - val_loss: 0.0553 - val_mean_absolute_error: 0.1874\n",
      "Epoch 45/100\n",
      "8304/8304 [==============================] - 97s 12ms/step - loss: 0.0547 - mean_absolute_error: 0.1850 - val_loss: 0.0554 - val_mean_absolute_error: 0.1876\n",
      "Epoch 46/100\n",
      "8304/8304 [==============================] - 97s 12ms/step - loss: 0.0547 - mean_absolute_error: 0.1854 - val_loss: 0.0559 - val_mean_absolute_error: 0.1890\n",
      "Epoch 47/100\n",
      "8304/8304 [==============================] - 97s 12ms/step - loss: 0.0548 - mean_absolute_error: 0.1859 - val_loss: 0.0554 - val_mean_absolute_error: 0.1871\n",
      "Epoch 48/100\n",
      "8304/8304 [==============================] - 97s 12ms/step - loss: 0.0548 - mean_absolute_error: 0.1846 - val_loss: 0.0551 - val_mean_absolute_error: 0.1862\n"
     ]
    },
    {
     "name": "stdout",
     "output_type": "stream",
     "text": [
      "Epoch 49/100\n",
      "8304/8304 [==============================] - 97s 12ms/step - loss: 0.0546 - mean_absolute_error: 0.1845 - val_loss: 0.0556 - val_mean_absolute_error: 0.1884\n",
      "Epoch 50/100\n",
      "8304/8304 [==============================] - 97s 12ms/step - loss: 0.0547 - mean_absolute_error: 0.1854 - val_loss: 0.0556 - val_mean_absolute_error: 0.1880\n",
      "Epoch 51/100\n",
      "8304/8304 [==============================] - 97s 12ms/step - loss: 0.0547 - mean_absolute_error: 0.1851 - val_loss: 0.0553 - val_mean_absolute_error: 0.1866\n",
      "Epoch 52/100\n",
      "8304/8304 [==============================] - 97s 12ms/step - loss: 0.0546 - mean_absolute_error: 0.1845 - val_loss: 0.0552 - val_mean_absolute_error: 0.1871\n",
      "Epoch 53/100\n",
      "8304/8304 [==============================] - 97s 12ms/step - loss: 0.0545 - mean_absolute_error: 0.1843 - val_loss: 0.0551 - val_mean_absolute_error: 0.1863\n",
      "Epoch 54/100\n",
      "8304/8304 [==============================] - 97s 12ms/step - loss: 0.0545 - mean_absolute_error: 0.1838 - val_loss: 0.0552 - val_mean_absolute_error: 0.1864\n",
      "Epoch 55/100\n",
      "8304/8304 [==============================] - 97s 12ms/step - loss: 0.0545 - mean_absolute_error: 0.1844 - val_loss: 0.0552 - val_mean_absolute_error: 0.1867\n",
      "Epoch 56/100\n",
      "8304/8304 [==============================] - 97s 12ms/step - loss: 0.0546 - mean_absolute_error: 0.1843 - val_loss: 0.0551 - val_mean_absolute_error: 0.1863\n",
      "Epoch 57/100\n",
      "8304/8304 [==============================] - 97s 12ms/step - loss: 0.0546 - mean_absolute_error: 0.1840 - val_loss: 0.0551 - val_mean_absolute_error: 0.1865\n",
      "Epoch 58/100\n",
      "8304/8304 [==============================] - 97s 12ms/step - loss: 0.0547 - mean_absolute_error: 0.1850 - val_loss: 0.0553 - val_mean_absolute_error: 0.1875\n",
      "Epoch 59/100\n",
      "8304/8304 [==============================] - 97s 12ms/step - loss: 0.0545 - mean_absolute_error: 0.1844 - val_loss: 0.0550 - val_mean_absolute_error: 0.1860\n",
      "Epoch 60/100\n",
      "8304/8304 [==============================] - 97s 12ms/step - loss: 0.0546 - mean_absolute_error: 0.1842 - val_loss: 0.0554 - val_mean_absolute_error: 0.1872\n",
      "Epoch 61/100\n",
      "8304/8304 [==============================] - 97s 12ms/step - loss: 0.0545 - mean_absolute_error: 0.1846 - val_loss: 0.0553 - val_mean_absolute_error: 0.1869\n",
      "Epoch 62/100\n",
      "8304/8304 [==============================] - 98s 12ms/step - loss: 0.0542 - mean_absolute_error: 0.1837 - val_loss: 0.0549 - val_mean_absolute_error: 0.1856\n",
      "Epoch 63/100\n",
      "8304/8304 [==============================] - 103s 12ms/step - loss: 0.0543 - mean_absolute_error: 0.1837 - val_loss: 0.0551 - val_mean_absolute_error: 0.1862\n",
      "Epoch 64/100\n",
      "8304/8304 [==============================] - 97s 12ms/step - loss: 0.0542 - mean_absolute_error: 0.1839 - val_loss: 0.0550 - val_mean_absolute_error: 0.1860\n",
      "Epoch 65/100\n",
      "8304/8304 [==============================] - 98s 12ms/step - loss: 0.0543 - mean_absolute_error: 0.1839 - val_loss: 0.0548 - val_mean_absolute_error: 0.1856\n",
      "Epoch 66/100\n",
      "8304/8304 [==============================] - 97s 12ms/step - loss: 0.0543 - mean_absolute_error: 0.1835 - val_loss: 0.0550 - val_mean_absolute_error: 0.1859\n",
      "Epoch 67/100\n",
      "8304/8304 [==============================] - 97s 12ms/step - loss: 0.0542 - mean_absolute_error: 0.1838 - val_loss: 0.0549 - val_mean_absolute_error: 0.1858\n",
      "Epoch 68/100\n",
      "8304/8304 [==============================] - 97s 12ms/step - loss: 0.0542 - mean_absolute_error: 0.1832 - val_loss: 0.0549 - val_mean_absolute_error: 0.1864\n",
      "Epoch 69/100\n",
      "8304/8304 [==============================] - 97s 12ms/step - loss: 0.0550 - mean_absolute_error: 0.1846 - val_loss: 0.0559 - val_mean_absolute_error: 0.1892\n",
      "Epoch 70/100\n",
      "8304/8304 [==============================] - 97s 12ms/step - loss: 0.0551 - mean_absolute_error: 0.1861 - val_loss: 0.0551 - val_mean_absolute_error: 0.1868\n",
      "Epoch 71/100\n",
      "8304/8304 [==============================] - 97s 12ms/step - loss: 0.0546 - mean_absolute_error: 0.1842 - val_loss: 0.0554 - val_mean_absolute_error: 0.1871\n",
      "Epoch 72/100\n",
      "8304/8304 [==============================] - 97s 12ms/step - loss: 0.0547 - mean_absolute_error: 0.1843 - val_loss: 0.0549 - val_mean_absolute_error: 0.1857\n",
      "Epoch 73/100\n",
      "8304/8304 [==============================] - 97s 12ms/step - loss: 0.0545 - mean_absolute_error: 0.1837 - val_loss: 0.0550 - val_mean_absolute_error: 0.1858\n",
      "Epoch 74/100\n",
      "8304/8304 [==============================] - 97s 12ms/step - loss: 0.0544 - mean_absolute_error: 0.1837 - val_loss: 0.0550 - val_mean_absolute_error: 0.1862\n",
      "Epoch 75/100\n",
      "8304/8304 [==============================] - 97s 12ms/step - loss: 0.0544 - mean_absolute_error: 0.1837 - val_loss: 0.0549 - val_mean_absolute_error: 0.1859\n",
      "Epoch 76/100\n",
      "8304/8304 [==============================] - 97s 12ms/step - loss: 0.0544 - mean_absolute_error: 0.1836 - val_loss: 0.0549 - val_mean_absolute_error: 0.1860\n",
      "Epoch 77/100\n",
      "8304/8304 [==============================] - 97s 12ms/step - loss: 0.0542 - mean_absolute_error: 0.1834 - val_loss: 0.0549 - val_mean_absolute_error: 0.1861\n",
      "Epoch 78/100\n",
      "8304/8304 [==============================] - 97s 12ms/step - loss: 0.0541 - mean_absolute_error: 0.1832 - val_loss: 0.0549 - val_mean_absolute_error: 0.1860\n",
      "Epoch 79/100\n",
      "8304/8304 [==============================] - 97s 12ms/step - loss: 0.0542 - mean_absolute_error: 0.1835 - val_loss: 0.0550 - val_mean_absolute_error: 0.1862\n",
      "Epoch 80/100\n",
      "8304/8304 [==============================] - 97s 12ms/step - loss: 0.0541 - mean_absolute_error: 0.1836 - val_loss: 0.0552 - val_mean_absolute_error: 0.1868\n",
      "Epoch 81/100\n",
      "8304/8304 [==============================] - 97s 12ms/step - loss: 0.0543 - mean_absolute_error: 0.1841 - val_loss: 0.0551 - val_mean_absolute_error: 0.1865\n",
      "Epoch 82/100\n",
      "8304/8304 [==============================] - 97s 12ms/step - loss: 0.0542 - mean_absolute_error: 0.1834 - val_loss: 0.0548 - val_mean_absolute_error: 0.1856\n",
      "Epoch 83/100\n",
      "8304/8304 [==============================] - 97s 12ms/step - loss: 0.0542 - mean_absolute_error: 0.1832 - val_loss: 0.0551 - val_mean_absolute_error: 0.1867\n",
      "Epoch 84/100\n",
      "8304/8304 [==============================] - 97s 12ms/step - loss: 0.0543 - mean_absolute_error: 0.1838 - val_loss: 0.0549 - val_mean_absolute_error: 0.1860\n",
      "Epoch 85/100\n",
      "8304/8304 [==============================] - 97s 12ms/step - loss: 0.0541 - mean_absolute_error: 0.1831 - val_loss: 0.0550 - val_mean_absolute_error: 0.1863\n",
      "Epoch 86/100\n",
      "8304/8304 [==============================] - 97s 12ms/step - loss: 0.0541 - mean_absolute_error: 0.1836 - val_loss: 0.0552 - val_mean_absolute_error: 0.1867\n",
      "Epoch 87/100\n",
      "8304/8304 [==============================] - 97s 12ms/step - loss: 0.0542 - mean_absolute_error: 0.1838 - val_loss: 0.0550 - val_mean_absolute_error: 0.1860\n",
      "Epoch 88/100\n",
      "8304/8304 [==============================] - 97s 12ms/step - loss: 0.0541 - mean_absolute_error: 0.1831 - val_loss: 0.0546 - val_mean_absolute_error: 0.1848\n",
      "Epoch 89/100\n",
      "8304/8304 [==============================] - 97s 12ms/step - loss: 0.0543 - mean_absolute_error: 0.1827 - val_loss: 0.0545 - val_mean_absolute_error: 0.1842\n",
      "Epoch 90/100\n",
      "8304/8304 [==============================] - 97s 12ms/step - loss: 0.0541 - mean_absolute_error: 0.1829 - val_loss: 0.0549 - val_mean_absolute_error: 0.1856\n",
      "Epoch 91/100\n",
      "8304/8304 [==============================] - 97s 12ms/step - loss: 0.0541 - mean_absolute_error: 0.1832 - val_loss: 0.0549 - val_mean_absolute_error: 0.1857\n",
      "Epoch 92/100\n",
      "8304/8304 [==============================] - 97s 12ms/step - loss: 0.0541 - mean_absolute_error: 0.1831 - val_loss: 0.0546 - val_mean_absolute_error: 0.1849\n",
      "Epoch 93/100\n",
      "8304/8304 [==============================] - 97s 12ms/step - loss: 0.0538 - mean_absolute_error: 0.1823 - val_loss: 0.0547 - val_mean_absolute_error: 0.1856\n",
      "Epoch 94/100\n",
      "8304/8304 [==============================] - 97s 12ms/step - loss: 0.0539 - mean_absolute_error: 0.1828 - val_loss: 0.0548 - val_mean_absolute_error: 0.1855\n",
      "Epoch 95/100\n",
      "8304/8304 [==============================] - 97s 12ms/step - loss: 0.0540 - mean_absolute_error: 0.1828 - val_loss: 0.0547 - val_mean_absolute_error: 0.1852\n",
      "Epoch 96/100\n",
      "8304/8304 [==============================] - 97s 12ms/step - loss: 0.0541 - mean_absolute_error: 0.1827 - val_loss: 0.0545 - val_mean_absolute_error: 0.1847\n",
      "Epoch 97/100\n",
      "8304/8304 [==============================] - 97s 12ms/step - loss: 0.0541 - mean_absolute_error: 0.1825 - val_loss: 0.0546 - val_mean_absolute_error: 0.1852\n",
      "Epoch 98/100\n",
      "8304/8304 [==============================] - 97s 12ms/step - loss: 0.0539 - mean_absolute_error: 0.1827 - val_loss: 0.0551 - val_mean_absolute_error: 0.1862\n",
      "Epoch 99/100\n",
      "8304/8304 [==============================] - 97s 12ms/step - loss: 0.0542 - mean_absolute_error: 0.1838 - val_loss: 0.0551 - val_mean_absolute_error: 0.1862\n",
      "Epoch 100/100\n",
      "8304/8304 [==============================] - 97s 12ms/step - loss: 0.0541 - mean_absolute_error: 0.1835 - val_loss: 0.0566 - val_mean_absolute_error: 0.1825\n"
     ]
    }
   ],
   "source": [
    "history_lstm_pre_gl = model_lstm_pre_gl.fit([padded_docs_train, gl_train], \n",
    "                                            y_train,\n",
    "                                            batch_size=2048, epochs=100, \n",
    "                                            validation_split=.2, verbose=1, shuffle=True)"
   ]
  },
  {
   "cell_type": "code",
   "execution_count": null,
   "metadata": {
    "collapsed": true
   },
   "outputs": [],
   "source": []
  },
  {
   "cell_type": "code",
   "execution_count": 128,
   "metadata": {
    "collapsed": true
   },
   "outputs": [],
   "source": [
    "# saving\n",
    "with open('./model/history_lstm_pre_gl_100.pickle', 'wb') as handle:\n",
    "    pickle.dump(history_lstm_pre_gl.history, handle)\n",
    "    \n",
    "model_lstm_pre_gl.save_weights('./model/checkpoint_{}.hdf5'.format(\n",
    "    'lstm_pre_gl_100'))\n"
   ]
  },
  {
   "cell_type": "code",
   "execution_count": 129,
   "metadata": {},
   "outputs": [
    {
     "data": {
      "image/png": "[encoded data removed]",
      "text/plain": [
       "<matplotlib.figure.Figure at 0x7f02e7a15ba8>"
      ]
     },
     "metadata": {},
     "output_type": "display_data"
    }
   ],
   "source": [
    "plt.title(\"Loss \")\n",
    "plt.plot(history_lstm_pre_gl.history[\"loss\"], color=\"r\", label=\"training\")\n",
    "plt.plot(history_lstm_pre_gl.history[\"val_loss\"], color=\"b\", label=\"validation\")\n",
    "plt.legend(loc=\"best\")\n",
    "plt.tight_layout()\n",
    "plt.show()"
   ]
  },
  {
   "cell_type": "code",
   "execution_count": 130,
   "metadata": {},
   "outputs": [
    {
     "data": {
      "image/png": "[encoded data removed]",
      "text/plain": [
       "<matplotlib.figure.Figure at 0x7f02eb6f3b70>"
      ]
     },
     "metadata": {},
     "output_type": "display_data"
    }
   ],
   "source": [
    "plt.title(\"Mean Absolute Error\")\n",
    "plt.plot(history_lstm_pre_gl.history[\"mean_absolute_error\"], color=\"r\", label=\"training\")\n",
    "plt.plot(history_lstm_pre_gl.history[\"val_mean_absolute_error\"], color=\"b\", label=\"validation\")\n",
    "plt.legend(loc=\"best\")\n",
    "plt.tight_layout()\n",
    "plt.show()"
   ]
  },
  {
   "cell_type": "code",
   "execution_count": null,
   "metadata": {
    "collapsed": true
   },
   "outputs": [],
   "source": []
  },
  {
   "cell_type": "code",
   "execution_count": 114,
   "metadata": {},
   "outputs": [
    {
     "name": "stdout",
     "output_type": "stream",
     "text": [
      "_________________________________________________________________\n",
      "Layer (type)                 Output Shape              Param #   \n",
      "=================================================================\n",
      "input_6 (InputLayer)         (None, 400)               0         \n",
      "_________________________________________________________________\n",
      "embedding_4 (Embedding)      (None, 400, 100)          500100    \n",
      "_________________________________________________________________\n",
      "lstm_4 (LSTM)                (None, 400)               801600    \n",
      "_________________________________________________________________\n",
      "dropout_4 (Dropout)          (None, 400)               0         \n",
      "_________________________________________________________________\n",
      "dense_4 (Dense)              (None, 1)                 401       \n",
      "_________________________________________________________________\n",
      "activation_4 (Activation)    (None, 1)                 0         \n",
      "=================================================================\n",
      "Total params: 1,302,101\n",
      "Trainable params: 802,001\n",
      "Non-trainable params: 500,100\n",
      "_________________________________________________________________\n"
     ]
    }
   ],
   "source": [
    "def create_lstm_pre():\n",
    "    itext = Input(shape=(MAX_LEN,))\n",
    "    embed = Embedding(VOCAB_SIZE+1, 100, \n",
    "                      embeddings_initializer=Constant(g_word_embedding_matrix),\n",
    "                      input_length=MAX_LEN, trainable=False)(itext)\n",
    "    lstm = LSTM(MAX_LEN, dropout=0.3, recurrent_dropout=0.3)(embed)\n",
    "\n",
    "    drop = Dropout(0.6)(lstm)\n",
    "    dens = Dense(1)(drop)\n",
    "    acti = Activation('sigmoid')(dens)\n",
    "    \n",
    "    model = Model([itext], acti)\n",
    "    model.compile(loss='mse', optimizer='adam', metrics=['mae'])\n",
    "    return model\n",
    "\n",
    "model_lstm_pre = create_lstm_pre()\n",
    "model_lstm_pre.summary()"
   ]
  },
  {
   "cell_type": "code",
   "execution_count": 115,
   "metadata": {},
   "outputs": [
    {
     "name": "stdout",
     "output_type": "stream",
     "text": [
      "Train on 8304 samples, validate on 2077 samples\n",
      "Epoch 1/100\n",
      "8304/8304 [==============================] - 100s 12ms/step - loss: 0.0654 - mean_absolute_error: 0.2063 - val_loss: 0.0637 - val_mean_absolute_error: 0.2042\n",
      "Epoch 2/100\n",
      "8304/8304 [==============================] - 97s 12ms/step - loss: 0.0602 - mean_absolute_error: 0.1973 - val_loss: 0.0599 - val_mean_absolute_error: 0.1978\n",
      "Epoch 3/100\n",
      "8304/8304 [==============================] - 97s 12ms/step - loss: 0.0577 - mean_absolute_error: 0.1930 - val_loss: 0.0579 - val_mean_absolute_error: 0.1947\n",
      "Epoch 4/100\n",
      "8304/8304 [==============================] - 97s 12ms/step - loss: 0.0565 - mean_absolute_error: 0.1902 - val_loss: 0.0559 - val_mean_absolute_error: 0.1895\n",
      "Epoch 5/100\n",
      "8304/8304 [==============================] - 97s 12ms/step - loss: 0.0560 - mean_absolute_error: 0.1888 - val_loss: 0.0564 - val_mean_absolute_error: 0.1916\n",
      "Epoch 6/100\n",
      "8304/8304 [==============================] - 97s 12ms/step - loss: 0.0556 - mean_absolute_error: 0.1879 - val_loss: 0.0562 - val_mean_absolute_error: 0.1900\n",
      "Epoch 7/100\n",
      "8304/8304 [==============================] - 97s 12ms/step - loss: 0.0558 - mean_absolute_error: 0.1875 - val_loss: 0.0561 - val_mean_absolute_error: 0.1898\n",
      "Epoch 8/100\n",
      "8304/8304 [==============================] - 97s 12ms/step - loss: 0.0556 - mean_absolute_error: 0.1873 - val_loss: 0.0563 - val_mean_absolute_error: 0.1913\n",
      "Epoch 9/100\n",
      "8304/8304 [==============================] - 97s 12ms/step - loss: 0.0557 - mean_absolute_error: 0.1884 - val_loss: 0.0567 - val_mean_absolute_error: 0.1923\n",
      "Epoch 10/100\n",
      "8304/8304 [==============================] - 97s 12ms/step - loss: 0.0558 - mean_absolute_error: 0.1891 - val_loss: 0.0563 - val_mean_absolute_error: 0.1911\n",
      "Epoch 11/100\n",
      "8304/8304 [==============================] - 97s 12ms/step - loss: 0.0554 - mean_absolute_error: 0.1873 - val_loss: 0.0560 - val_mean_absolute_error: 0.1892\n",
      "Epoch 12/100\n",
      "8304/8304 [==============================] - 97s 12ms/step - loss: 0.0557 - mean_absolute_error: 0.1866 - val_loss: 0.0560 - val_mean_absolute_error: 0.1898\n",
      "Epoch 13/100\n",
      "8304/8304 [==============================] - 97s 12ms/step - loss: 0.0554 - mean_absolute_error: 0.1875 - val_loss: 0.0565 - val_mean_absolute_error: 0.1916\n",
      "Epoch 14/100\n",
      "8304/8304 [==============================] - 97s 12ms/step - loss: 0.0555 - mean_absolute_error: 0.1880 - val_loss: 0.0563 - val_mean_absolute_error: 0.1911\n",
      "Epoch 15/100\n",
      "8304/8304 [==============================] - 97s 12ms/step - loss: 0.0554 - mean_absolute_error: 0.1875 - val_loss: 0.0560 - val_mean_absolute_error: 0.1898\n",
      "Epoch 16/100\n",
      "8304/8304 [==============================] - 97s 12ms/step - loss: 0.0554 - mean_absolute_error: 0.1863 - val_loss: 0.0559 - val_mean_absolute_error: 0.1886\n",
      "Epoch 17/100\n",
      "8304/8304 [==============================] - 97s 12ms/step - loss: 0.0554 - mean_absolute_error: 0.1858 - val_loss: 0.0561 - val_mean_absolute_error: 0.1900\n",
      "Epoch 18/100\n",
      "8304/8304 [==============================] - 97s 12ms/step - loss: 0.0554 - mean_absolute_error: 0.1872 - val_loss: 0.0565 - val_mean_absolute_error: 0.1911\n",
      "Epoch 19/100\n",
      "8304/8304 [==============================] - 97s 12ms/step - loss: 0.0554 - mean_absolute_error: 0.1878 - val_loss: 0.0563 - val_mean_absolute_error: 0.1908\n",
      "Epoch 20/100\n",
      "8304/8304 [==============================] - 97s 12ms/step - loss: 0.0553 - mean_absolute_error: 0.1874 - val_loss: 0.0561 - val_mean_absolute_error: 0.1903\n",
      "Epoch 21/100\n",
      "8304/8304 [==============================] - 97s 12ms/step - loss: 0.0552 - mean_absolute_error: 0.1863 - val_loss: 0.0561 - val_mean_absolute_error: 0.1896\n",
      "Epoch 22/100\n",
      "8304/8304 [==============================] - 97s 12ms/step - loss: 0.0554 - mean_absolute_error: 0.1871 - val_loss: 0.0563 - val_mean_absolute_error: 0.1909\n",
      "Epoch 23/100\n",
      "8304/8304 [==============================] - 97s 12ms/step - loss: 0.0553 - mean_absolute_error: 0.1868 - val_loss: 0.0559 - val_mean_absolute_error: 0.1888\n",
      "Epoch 24/100\n",
      "8304/8304 [==============================] - 97s 12ms/step - loss: 0.0553 - mean_absolute_error: 0.1857 - val_loss: 0.0558 - val_mean_absolute_error: 0.1886\n",
      "Epoch 25/100\n",
      "8304/8304 [==============================] - 97s 12ms/step - loss: 0.0551 - mean_absolute_error: 0.1852 - val_loss: 0.0560 - val_mean_absolute_error: 0.1895\n",
      "Epoch 26/100\n",
      "8304/8304 [==============================] - 97s 12ms/step - loss: 0.0551 - mean_absolute_error: 0.1866 - val_loss: 0.0562 - val_mean_absolute_error: 0.1900\n",
      "Epoch 27/100\n",
      "8304/8304 [==============================] - 97s 12ms/step - loss: 0.0552 - mean_absolute_error: 0.1865 - val_loss: 0.0559 - val_mean_absolute_error: 0.1885\n",
      "Epoch 28/100\n",
      "8304/8304 [==============================] - 97s 12ms/step - loss: 0.0551 - mean_absolute_error: 0.1856 - val_loss: 0.0558 - val_mean_absolute_error: 0.1887\n",
      "Epoch 29/100\n",
      "8304/8304 [==============================] - 97s 12ms/step - loss: 0.0551 - mean_absolute_error: 0.1858 - val_loss: 0.0563 - val_mean_absolute_error: 0.1905\n",
      "Epoch 30/100\n",
      "8304/8304 [==============================] - 97s 12ms/step - loss: 0.0556 - mean_absolute_error: 0.1877 - val_loss: 0.0563 - val_mean_absolute_error: 0.1906\n",
      "Epoch 31/100\n",
      "8304/8304 [==============================] - 97s 12ms/step - loss: 0.0551 - mean_absolute_error: 0.1865 - val_loss: 0.0558 - val_mean_absolute_error: 0.1873\n",
      "Epoch 32/100\n",
      "8304/8304 [==============================] - 97s 12ms/step - loss: 0.0558 - mean_absolute_error: 0.1855 - val_loss: 0.0560 - val_mean_absolute_error: 0.1898\n",
      "Epoch 33/100\n",
      "8304/8304 [==============================] - 97s 12ms/step - loss: 0.0552 - mean_absolute_error: 0.1867 - val_loss: 0.0559 - val_mean_absolute_error: 0.1897\n",
      "Epoch 34/100\n",
      "8304/8304 [==============================] - 97s 12ms/step - loss: 0.0553 - mean_absolute_error: 0.1863 - val_loss: 0.0561 - val_mean_absolute_error: 0.1895\n",
      "Epoch 35/100\n",
      "8304/8304 [==============================] - 97s 12ms/step - loss: 0.0552 - mean_absolute_error: 0.1864 - val_loss: 0.0559 - val_mean_absolute_error: 0.1891\n",
      "Epoch 36/100\n",
      "8304/8304 [==============================] - 97s 12ms/step - loss: 0.0549 - mean_absolute_error: 0.1851 - val_loss: 0.0557 - val_mean_absolute_error: 0.1882\n",
      "Epoch 37/100\n",
      "8304/8304 [==============================] - 97s 12ms/step - loss: 0.0550 - mean_absolute_error: 0.1859 - val_loss: 0.0558 - val_mean_absolute_error: 0.1884\n",
      "Epoch 38/100\n",
      "8304/8304 [==============================] - 97s 12ms/step - loss: 0.0549 - mean_absolute_error: 0.1852 - val_loss: 0.0556 - val_mean_absolute_error: 0.1876\n",
      "Epoch 39/100\n",
      "8304/8304 [==============================] - 97s 12ms/step - loss: 0.0549 - mean_absolute_error: 0.1852 - val_loss: 0.0557 - val_mean_absolute_error: 0.1879\n",
      "Epoch 40/100\n",
      "8304/8304 [==============================] - 97s 12ms/step - loss: 0.0550 - mean_absolute_error: 0.1855 - val_loss: 0.0557 - val_mean_absolute_error: 0.1882\n",
      "Epoch 41/100\n",
      "8304/8304 [==============================] - 97s 12ms/step - loss: 0.0550 - mean_absolute_error: 0.1851 - val_loss: 0.0555 - val_mean_absolute_error: 0.1875\n",
      "Epoch 42/100\n",
      "8304/8304 [==============================] - 97s 12ms/step - loss: 0.0548 - mean_absolute_error: 0.1851 - val_loss: 0.0560 - val_mean_absolute_error: 0.1893\n",
      "Epoch 43/100\n",
      "8304/8304 [==============================] - 97s 12ms/step - loss: 0.0550 - mean_absolute_error: 0.1864 - val_loss: 0.0561 - val_mean_absolute_error: 0.1896\n",
      "Epoch 44/100\n",
      "8304/8304 [==============================] - 97s 12ms/step - loss: 0.0549 - mean_absolute_error: 0.1855 - val_loss: 0.0555 - val_mean_absolute_error: 0.1875\n",
      "Epoch 45/100\n",
      "8304/8304 [==============================] - 97s 12ms/step - loss: 0.0548 - mean_absolute_error: 0.1848 - val_loss: 0.0555 - val_mean_absolute_error: 0.1874\n",
      "Epoch 46/100\n",
      "8304/8304 [==============================] - 97s 12ms/step - loss: 0.0549 - mean_absolute_error: 0.1846 - val_loss: 0.0554 - val_mean_absolute_error: 0.1865\n",
      "Epoch 47/100\n",
      "8304/8304 [==============================] - 97s 12ms/step - loss: 0.0548 - mean_absolute_error: 0.1842 - val_loss: 0.0554 - val_mean_absolute_error: 0.1871\n",
      "Epoch 48/100\n",
      "8304/8304 [==============================] - 97s 12ms/step - loss: 0.0548 - mean_absolute_error: 0.1848 - val_loss: 0.0554 - val_mean_absolute_error: 0.1873\n"
     ]
    },
    {
     "name": "stdout",
     "output_type": "stream",
     "text": [
      "Epoch 49/100\n",
      "8304/8304 [==============================] - 97s 12ms/step - loss: 0.0547 - mean_absolute_error: 0.1844 - val_loss: 0.0554 - val_mean_absolute_error: 0.1869\n",
      "Epoch 50/100\n",
      "8304/8304 [==============================] - 97s 12ms/step - loss: 0.0547 - mean_absolute_error: 0.1845 - val_loss: 0.0559 - val_mean_absolute_error: 0.1885\n",
      "Epoch 51/100\n",
      "8304/8304 [==============================] - 97s 12ms/step - loss: 0.0550 - mean_absolute_error: 0.1854 - val_loss: 0.0555 - val_mean_absolute_error: 0.1874\n",
      "Epoch 52/100\n",
      "8304/8304 [==============================] - 97s 12ms/step - loss: 0.0548 - mean_absolute_error: 0.1851 - val_loss: 0.0552 - val_mean_absolute_error: 0.1864\n",
      "Epoch 53/100\n",
      "8304/8304 [==============================] - 97s 12ms/step - loss: 0.0549 - mean_absolute_error: 0.1835 - val_loss: 0.0552 - val_mean_absolute_error: 0.1861\n",
      "Epoch 54/100\n",
      "8304/8304 [==============================] - 97s 12ms/step - loss: 0.0547 - mean_absolute_error: 0.1847 - val_loss: 0.0559 - val_mean_absolute_error: 0.1885\n",
      "Epoch 55/100\n",
      "8304/8304 [==============================] - 97s 12ms/step - loss: 0.0547 - mean_absolute_error: 0.1855 - val_loss: 0.0553 - val_mean_absolute_error: 0.1867\n",
      "Epoch 56/100\n",
      "8304/8304 [==============================] - 97s 12ms/step - loss: 0.0546 - mean_absolute_error: 0.1836 - val_loss: 0.0550 - val_mean_absolute_error: 0.1848\n",
      "Epoch 57/100\n",
      "8304/8304 [==============================] - 97s 12ms/step - loss: 0.0546 - mean_absolute_error: 0.1834 - val_loss: 0.0553 - val_mean_absolute_error: 0.1870\n",
      "Epoch 58/100\n",
      "8304/8304 [==============================] - 97s 12ms/step - loss: 0.0547 - mean_absolute_error: 0.1850 - val_loss: 0.0554 - val_mean_absolute_error: 0.1873\n",
      "Epoch 59/100\n",
      "8304/8304 [==============================] - 97s 12ms/step - loss: 0.0546 - mean_absolute_error: 0.1843 - val_loss: 0.0552 - val_mean_absolute_error: 0.1861\n",
      "Epoch 60/100\n",
      "8304/8304 [==============================] - 97s 12ms/step - loss: 0.0548 - mean_absolute_error: 0.1840 - val_loss: 0.0552 - val_mean_absolute_error: 0.1863\n",
      "Epoch 61/100\n",
      "8304/8304 [==============================] - 97s 12ms/step - loss: 0.0545 - mean_absolute_error: 0.1839 - val_loss: 0.0554 - val_mean_absolute_error: 0.1871\n",
      "Epoch 62/100\n",
      "8304/8304 [==============================] - 97s 12ms/step - loss: 0.0543 - mean_absolute_error: 0.1841 - val_loss: 0.0646 - val_mean_absolute_error: 0.1946\n",
      "Epoch 63/100\n",
      "8304/8304 [==============================] - 97s 12ms/step - loss: 0.0618 - mean_absolute_error: 0.1947 - val_loss: 0.0586 - val_mean_absolute_error: 0.1866\n",
      "Epoch 64/100\n",
      "8304/8304 [==============================] - 97s 12ms/step - loss: 0.0572 - mean_absolute_error: 0.1874 - val_loss: 0.0577 - val_mean_absolute_error: 0.1942\n",
      "Epoch 65/100\n",
      "8304/8304 [==============================] - 97s 12ms/step - loss: 0.0560 - mean_absolute_error: 0.1895 - val_loss: 0.0566 - val_mean_absolute_error: 0.1916\n",
      "Epoch 66/100\n",
      "8304/8304 [==============================] - 97s 12ms/step - loss: 0.0552 - mean_absolute_error: 0.1872 - val_loss: 0.0558 - val_mean_absolute_error: 0.1890\n",
      "Epoch 67/100\n",
      "8304/8304 [==============================] - 97s 12ms/step - loss: 0.0549 - mean_absolute_error: 0.1850 - val_loss: 0.0553 - val_mean_absolute_error: 0.1870\n",
      "Epoch 68/100\n",
      "8304/8304 [==============================] - 97s 12ms/step - loss: 0.0548 - mean_absolute_error: 0.1849 - val_loss: 0.0556 - val_mean_absolute_error: 0.1881\n",
      "Epoch 69/100\n",
      "8304/8304 [==============================] - 97s 12ms/step - loss: 0.0547 - mean_absolute_error: 0.1852 - val_loss: 0.0554 - val_mean_absolute_error: 0.1870\n",
      "Epoch 70/100\n",
      "8304/8304 [==============================] - 97s 12ms/step - loss: 0.0546 - mean_absolute_error: 0.1842 - val_loss: 0.0553 - val_mean_absolute_error: 0.1866\n",
      "Epoch 71/100\n",
      "8304/8304 [==============================] - 97s 12ms/step - loss: 0.0545 - mean_absolute_error: 0.1841 - val_loss: 0.0554 - val_mean_absolute_error: 0.1869\n",
      "Epoch 72/100\n",
      "8304/8304 [==============================] - 97s 12ms/step - loss: 0.0546 - mean_absolute_error: 0.1843 - val_loss: 0.0553 - val_mean_absolute_error: 0.1869\n",
      "Epoch 73/100\n",
      "8304/8304 [==============================] - 97s 12ms/step - loss: 0.0545 - mean_absolute_error: 0.1844 - val_loss: 0.0554 - val_mean_absolute_error: 0.1871\n",
      "Epoch 74/100\n",
      "8304/8304 [==============================] - 97s 12ms/step - loss: 0.0544 - mean_absolute_error: 0.1840 - val_loss: 0.0550 - val_mean_absolute_error: 0.1854\n",
      "Epoch 75/100\n",
      "8304/8304 [==============================] - 97s 12ms/step - loss: 0.0545 - mean_absolute_error: 0.1834 - val_loss: 0.0550 - val_mean_absolute_error: 0.1853\n",
      "Epoch 76/100\n",
      "8304/8304 [==============================] - 97s 12ms/step - loss: 0.0545 - mean_absolute_error: 0.1834 - val_loss: 0.0552 - val_mean_absolute_error: 0.1865\n",
      "Epoch 77/100\n",
      "8304/8304 [==============================] - 97s 12ms/step - loss: 0.0545 - mean_absolute_error: 0.1843 - val_loss: 0.0553 - val_mean_absolute_error: 0.1867\n",
      "Epoch 78/100\n",
      "8304/8304 [==============================] - 97s 12ms/step - loss: 0.0545 - mean_absolute_error: 0.1840 - val_loss: 0.0551 - val_mean_absolute_error: 0.1862\n",
      "Epoch 79/100\n",
      "8304/8304 [==============================] - 97s 12ms/step - loss: 0.0545 - mean_absolute_error: 0.1841 - val_loss: 0.0552 - val_mean_absolute_error: 0.1863\n",
      "Epoch 80/100\n",
      "8304/8304 [==============================] - 97s 12ms/step - loss: 0.0548 - mean_absolute_error: 0.1839 - val_loss: 0.0554 - val_mean_absolute_error: 0.1845\n",
      "Epoch 81/100\n",
      "8304/8304 [==============================] - 97s 12ms/step - loss: 0.0550 - mean_absolute_error: 0.1844 - val_loss: 0.0567 - val_mean_absolute_error: 0.1912\n",
      "Epoch 82/100\n",
      "8304/8304 [==============================] - 97s 12ms/step - loss: 0.0553 - mean_absolute_error: 0.1868 - val_loss: 0.0558 - val_mean_absolute_error: 0.1886\n",
      "Epoch 83/100\n",
      "8304/8304 [==============================] - 97s 12ms/step - loss: 0.0548 - mean_absolute_error: 0.1849 - val_loss: 0.0553 - val_mean_absolute_error: 0.1863\n",
      "Epoch 84/100\n",
      "8304/8304 [==============================] - 97s 12ms/step - loss: 0.0545 - mean_absolute_error: 0.1832 - val_loss: 0.0550 - val_mean_absolute_error: 0.1857\n",
      "Epoch 85/100\n",
      "8304/8304 [==============================] - 97s 12ms/step - loss: 0.0543 - mean_absolute_error: 0.1832 - val_loss: 0.0550 - val_mean_absolute_error: 0.1855\n",
      "Epoch 86/100\n",
      "8304/8304 [==============================] - 97s 12ms/step - loss: 0.0544 - mean_absolute_error: 0.1832 - val_loss: 0.0550 - val_mean_absolute_error: 0.1856\n",
      "Epoch 87/100\n",
      "8304/8304 [==============================] - 97s 12ms/step - loss: 0.0545 - mean_absolute_error: 0.1838 - val_loss: 0.0553 - val_mean_absolute_error: 0.1868\n",
      "Epoch 88/100\n",
      "8304/8304 [==============================] - 97s 12ms/step - loss: 0.0543 - mean_absolute_error: 0.1838 - val_loss: 0.0551 - val_mean_absolute_error: 0.1859\n",
      "Epoch 89/100\n",
      "8304/8304 [==============================] - 97s 12ms/step - loss: 0.0543 - mean_absolute_error: 0.1833 - val_loss: 0.0549 - val_mean_absolute_error: 0.1850\n",
      "Epoch 90/100\n",
      "8304/8304 [==============================] - 97s 12ms/step - loss: 0.0543 - mean_absolute_error: 0.1831 - val_loss: 0.0551 - val_mean_absolute_error: 0.1860\n",
      "Epoch 91/100\n",
      "8304/8304 [==============================] - 97s 12ms/step - loss: 0.0543 - mean_absolute_error: 0.1836 - val_loss: 0.0551 - val_mean_absolute_error: 0.1860\n",
      "Epoch 92/100\n",
      "8304/8304 [==============================] - 97s 12ms/step - loss: 0.0544 - mean_absolute_error: 0.1836 - val_loss: 0.0550 - val_mean_absolute_error: 0.1855\n",
      "Epoch 93/100\n",
      "8304/8304 [==============================] - 97s 12ms/step - loss: 0.0543 - mean_absolute_error: 0.1832 - val_loss: 0.0550 - val_mean_absolute_error: 0.1858\n",
      "Epoch 94/100\n",
      "8304/8304 [==============================] - 97s 12ms/step - loss: 0.0543 - mean_absolute_error: 0.1834 - val_loss: 0.0552 - val_mean_absolute_error: 0.1865\n",
      "Epoch 95/100\n",
      "8304/8304 [==============================] - 97s 12ms/step - loss: 0.0543 - mean_absolute_error: 0.1839 - val_loss: 0.0552 - val_mean_absolute_error: 0.1863\n",
      "Epoch 96/100\n",
      "8304/8304 [==============================] - 97s 12ms/step - loss: 0.0542 - mean_absolute_error: 0.1835 - val_loss: 0.0549 - val_mean_absolute_error: 0.1855\n",
      "Epoch 97/100\n",
      "8304/8304 [==============================] - 97s 12ms/step - loss: 0.0543 - mean_absolute_error: 0.1834 - val_loss: 0.0548 - val_mean_absolute_error: 0.1850\n",
      "Epoch 98/100\n",
      "8304/8304 [==============================] - 97s 12ms/step - loss: 0.0540 - mean_absolute_error: 0.1825 - val_loss: 0.0550 - val_mean_absolute_error: 0.1859\n",
      "Epoch 99/100\n",
      "8304/8304 [==============================] - 97s 12ms/step - loss: 0.0540 - mean_absolute_error: 0.1834 - val_loss: 0.0551 - val_mean_absolute_error: 0.1860\n",
      "Epoch 100/100\n",
      "8304/8304 [==============================] - 97s 12ms/step - loss: 0.0545 - mean_absolute_error: 0.1831 - val_loss: 0.0559 - val_mean_absolute_error: 0.1880\n"
     ]
    }
   ],
   "source": [
    "history_lstm_pre = model_lstm_pre.fit([padded_docs_train], \n",
    "                                            y_train,\n",
    "                                            batch_size=2048, epochs=100, \n",
    "                                            validation_split=.2, verbose=1, shuffle=True)"
   ]
  },
  {
   "cell_type": "code",
   "execution_count": 116,
   "metadata": {
    "collapsed": true
   },
   "outputs": [],
   "source": [
    "# saving\n",
    "with open('./model/history_lstm_pre.pickle', 'wb') as handle:\n",
    "    pickle.dump(history_lstm_pre.history, handle)\n",
    "    \n",
    "model_lstm_pre.save_weights('./model/checkpoint_{}.hdf5'.format(\n",
    "    'lstm_pre_100'))"
   ]
  },
  {
   "cell_type": "code",
   "execution_count": 117,
   "metadata": {},
   "outputs": [
    {
     "data": {
      "image/png": "[encoded data removed]",
      "text/plain": [
       "<matplotlib.figure.Figure at 0x7f1c2f34d668>"
      ]
     },
     "metadata": {},
     "output_type": "display_data"
    }
   ],
   "source": [
    "plt.title(\"Loss\")\n",
    "plt.plot(history_lstm_pre.history[\"loss\"], color=\"r\", label=\"training\")\n",
    "plt.plot(history_lstm_pre.history[\"val_loss\"], color=\"b\", label=\"validation\")\n",
    "plt.legend(loc=\"best\")\n",
    "\n",
    "plt.tight_layout()\n",
    "plt.show()"
   ]
  },
  {
   "cell_type": "code",
   "execution_count": null,
   "metadata": {
    "collapsed": true
   },
   "outputs": [],
   "source": []
  },
  {
   "cell_type": "code",
   "execution_count": null,
   "metadata": {
    "collapsed": true
   },
   "outputs": [],
   "source": []
  },
  {
   "cell_type": "code",
   "execution_count": 118,
   "metadata": {},
   "outputs": [
    {
     "name": "stdout",
     "output_type": "stream",
     "text": [
      "_________________________________________________________________\n",
      "Layer (type)                 Output Shape              Param #   \n",
      "=================================================================\n",
      "input_7 (InputLayer)         (None, 400)               0         \n",
      "_________________________________________________________________\n",
      "embedding_5 (Embedding)      (None, 400, 100)          500100    \n",
      "_________________________________________________________________\n",
      "lstm_5 (LSTM)                (None, 400)               801600    \n",
      "_________________________________________________________________\n",
      "dropout_5 (Dropout)          (None, 400)               0         \n",
      "_________________________________________________________________\n",
      "dense_5 (Dense)              (None, 1)                 401       \n",
      "_________________________________________________________________\n",
      "activation_5 (Activation)    (None, 1)                 0         \n",
      "=================================================================\n",
      "Total params: 1,302,101\n",
      "Trainable params: 1,302,101\n",
      "Non-trainable params: 0\n",
      "_________________________________________________________________\n"
     ]
    }
   ],
   "source": [
    "def create_lstm_gl():\n",
    "    itext = Input(shape=(MAX_LEN,))\n",
    "    embed = Embedding(VOCAB_SIZE+1, 100, \n",
    "                      input_length=MAX_LEN, mask_zero=True)(itext)\n",
    "    lstm = LSTM(MAX_LEN, dropout=0.3, recurrent_dropout=0.3)(embed)\n",
    "    \n",
    "    igl = Input(shape=(4,))\n",
    "    \n",
    "    conc = concatenate([lstm, igl])\n",
    "    \n",
    "    drop = Dropout(0.6)(lstm)\n",
    "    dens = Dense(1)(drop)\n",
    "    acti = Activation('sigmoid')(dens)\n",
    "    \n",
    "    model = Model([itext, igl], acti)\n",
    "    model.compile(loss='mse', optimizer='adam', metrics=['mae'])\n",
    "    return model\n",
    "\n",
    "model_lstm_gl = create_lstm_gl()\n",
    "model_lstm_gl.summary()"
   ]
  },
  {
   "cell_type": "code",
   "execution_count": 119,
   "metadata": {},
   "outputs": [
    {
     "name": "stdout",
     "output_type": "stream",
     "text": [
      "Train on 8304 samples, validate on 2077 samples\n",
      "Epoch 1/100\n",
      "8304/8304 [==============================] - 128s 15ms/step - loss: 0.0647 - mean_absolute_error: 0.2070 - val_loss: 0.0571 - val_mean_absolute_error: 0.1865\n",
      "Epoch 2/100\n",
      "8304/8304 [==============================] - 123s 15ms/step - loss: 0.0577 - mean_absolute_error: 0.1921 - val_loss: 0.0588 - val_mean_absolute_error: 0.1990\n",
      "Epoch 3/100\n",
      "8304/8304 [==============================] - 123s 15ms/step - loss: 0.0567 - mean_absolute_error: 0.1933 - val_loss: 0.0548 - val_mean_absolute_error: 0.1874\n",
      "Epoch 4/100\n",
      "8304/8304 [==============================] - 123s 15ms/step - loss: 0.0543 - mean_absolute_error: 0.1836 - val_loss: 0.0536 - val_mean_absolute_error: 0.1846\n",
      "Epoch 5/100\n",
      "8304/8304 [==============================] - 123s 15ms/step - loss: 0.0522 - mean_absolute_error: 0.1803 - val_loss: 0.0517 - val_mean_absolute_error: 0.1817\n",
      "Epoch 6/100\n",
      "8304/8304 [==============================] - 123s 15ms/step - loss: 0.0486 - mean_absolute_error: 0.1732 - val_loss: 0.0487 - val_mean_absolute_error: 0.1750\n",
      "Epoch 7/100\n",
      "8304/8304 [==============================] - 123s 15ms/step - loss: 0.0455 - mean_absolute_error: 0.1671 - val_loss: 0.0471 - val_mean_absolute_error: 0.1711\n",
      "Epoch 8/100\n",
      "8304/8304 [==============================] - 123s 15ms/step - loss: 0.0430 - mean_absolute_error: 0.1617 - val_loss: 0.0453 - val_mean_absolute_error: 0.1676\n",
      "Epoch 9/100\n",
      "8304/8304 [==============================] - 123s 15ms/step - loss: 0.0400 - mean_absolute_error: 0.1568 - val_loss: 0.0457 - val_mean_absolute_error: 0.1704\n",
      "Epoch 10/100\n",
      "8304/8304 [==============================] - 123s 15ms/step - loss: 0.0390 - mean_absolute_error: 0.1559 - val_loss: 0.0488 - val_mean_absolute_error: 0.1765\n",
      "Epoch 11/100\n",
      "8304/8304 [==============================] - 123s 15ms/step - loss: 0.0388 - mean_absolute_error: 0.1551 - val_loss: 0.0474 - val_mean_absolute_error: 0.1733\n",
      "Epoch 12/100\n",
      "8304/8304 [==============================] - 123s 15ms/step - loss: 0.0393 - mean_absolute_error: 0.1568 - val_loss: 0.0445 - val_mean_absolute_error: 0.1671\n",
      "Epoch 13/100\n",
      "8304/8304 [==============================] - 123s 15ms/step - loss: 0.0353 - mean_absolute_error: 0.1486 - val_loss: 0.0486 - val_mean_absolute_error: 0.1752\n",
      "Epoch 14/100\n",
      "8304/8304 [==============================] - 124s 15ms/step - loss: 0.0347 - mean_absolute_error: 0.1472 - val_loss: 0.0453 - val_mean_absolute_error: 0.1689\n",
      "Epoch 15/100\n",
      "8304/8304 [==============================] - 123s 15ms/step - loss: 0.0334 - mean_absolute_error: 0.1438 - val_loss: 0.0449 - val_mean_absolute_error: 0.1678\n",
      "Epoch 16/100\n",
      "8304/8304 [==============================] - 123s 15ms/step - loss: 0.0314 - mean_absolute_error: 0.1398 - val_loss: 0.0442 - val_mean_absolute_error: 0.1665\n",
      "Epoch 17/100\n",
      "8304/8304 [==============================] - 123s 15ms/step - loss: 0.0310 - mean_absolute_error: 0.1384 - val_loss: 0.0442 - val_mean_absolute_error: 0.1681\n",
      "Epoch 18/100\n",
      "8304/8304 [==============================] - 123s 15ms/step - loss: 0.0322 - mean_absolute_error: 0.1412 - val_loss: 0.0444 - val_mean_absolute_error: 0.1673\n",
      "Epoch 19/100\n",
      "8304/8304 [==============================] - 123s 15ms/step - loss: 0.0307 - mean_absolute_error: 0.1383 - val_loss: 0.0466 - val_mean_absolute_error: 0.1714\n",
      "Epoch 20/100\n",
      "8304/8304 [==============================] - 123s 15ms/step - loss: 0.0298 - mean_absolute_error: 0.1357 - val_loss: 0.0468 - val_mean_absolute_error: 0.1713\n",
      "Epoch 21/100\n",
      "8304/8304 [==============================] - 123s 15ms/step - loss: 0.0292 - mean_absolute_error: 0.1347 - val_loss: 0.0491 - val_mean_absolute_error: 0.1761\n",
      "Epoch 22/100\n",
      "8304/8304 [==============================] - 123s 15ms/step - loss: 0.0282 - mean_absolute_error: 0.1325 - val_loss: 0.0466 - val_mean_absolute_error: 0.1708\n",
      "Epoch 23/100\n",
      "8304/8304 [==============================] - 123s 15ms/step - loss: 0.0274 - mean_absolute_error: 0.1307 - val_loss: 0.0466 - val_mean_absolute_error: 0.1719\n",
      "Epoch 24/100\n",
      "8304/8304 [==============================] - 123s 15ms/step - loss: 0.0286 - mean_absolute_error: 0.1335 - val_loss: 0.0464 - val_mean_absolute_error: 0.1703\n",
      "Epoch 25/100\n",
      "8304/8304 [==============================] - 123s 15ms/step - loss: 0.0271 - mean_absolute_error: 0.1296 - val_loss: 0.0468 - val_mean_absolute_error: 0.1711\n",
      "Epoch 26/100\n",
      "8304/8304 [==============================] - 123s 15ms/step - loss: 0.0269 - mean_absolute_error: 0.1290 - val_loss: 0.0483 - val_mean_absolute_error: 0.1741\n",
      "Epoch 27/100\n",
      "8304/8304 [==============================] - 123s 15ms/step - loss: 0.0260 - mean_absolute_error: 0.1272 - val_loss: 0.0490 - val_mean_absolute_error: 0.1755\n",
      "Epoch 28/100\n",
      "8304/8304 [==============================] - 123s 15ms/step - loss: 0.0254 - mean_absolute_error: 0.1253 - val_loss: 0.0479 - val_mean_absolute_error: 0.1731\n",
      "Epoch 29/100\n",
      "8304/8304 [==============================] - 123s 15ms/step - loss: 0.0257 - mean_absolute_error: 0.1255 - val_loss: 0.0501 - val_mean_absolute_error: 0.1772\n",
      "Epoch 30/100\n",
      "8304/8304 [==============================] - 123s 15ms/step - loss: 0.0256 - mean_absolute_error: 0.1260 - val_loss: 0.0475 - val_mean_absolute_error: 0.1728\n",
      "Epoch 31/100\n",
      "8304/8304 [==============================] - 123s 15ms/step - loss: 0.0261 - mean_absolute_error: 0.1271 - val_loss: 0.0502 - val_mean_absolute_error: 0.1773\n",
      "Epoch 32/100\n",
      "8304/8304 [==============================] - 123s 15ms/step - loss: 0.0258 - mean_absolute_error: 0.1268 - val_loss: 0.0486 - val_mean_absolute_error: 0.1741\n",
      "Epoch 33/100\n",
      "8304/8304 [==============================] - 123s 15ms/step - loss: 0.0249 - mean_absolute_error: 0.1241 - val_loss: 0.0505 - val_mean_absolute_error: 0.1774\n",
      "Epoch 34/100\n",
      "8304/8304 [==============================] - 123s 15ms/step - loss: 0.0236 - mean_absolute_error: 0.1204 - val_loss: 0.0493 - val_mean_absolute_error: 0.1754\n",
      "Epoch 35/100\n",
      "8304/8304 [==============================] - 123s 15ms/step - loss: 0.0233 - mean_absolute_error: 0.1195 - val_loss: 0.0485 - val_mean_absolute_error: 0.1746\n",
      "Epoch 36/100\n",
      "8304/8304 [==============================] - 123s 15ms/step - loss: 0.0229 - mean_absolute_error: 0.1187 - val_loss: 0.0503 - val_mean_absolute_error: 0.1776\n",
      "Epoch 37/100\n",
      "8304/8304 [==============================] - 123s 15ms/step - loss: 0.0220 - mean_absolute_error: 0.1164 - val_loss: 0.0490 - val_mean_absolute_error: 0.1748\n",
      "Epoch 38/100\n",
      "8304/8304 [==============================] - 123s 15ms/step - loss: 0.0218 - mean_absolute_error: 0.1161 - val_loss: 0.0477 - val_mean_absolute_error: 0.1727\n",
      "Epoch 39/100\n",
      "8304/8304 [==============================] - 123s 15ms/step - loss: 0.0216 - mean_absolute_error: 0.1156 - val_loss: 0.0506 - val_mean_absolute_error: 0.1781\n",
      "Epoch 40/100\n",
      "8304/8304 [==============================] - 123s 15ms/step - loss: 0.0213 - mean_absolute_error: 0.1150 - val_loss: 0.0497 - val_mean_absolute_error: 0.1760\n",
      "Epoch 41/100\n",
      "8304/8304 [==============================] - 123s 15ms/step - loss: 0.0208 - mean_absolute_error: 0.1129 - val_loss: 0.0506 - val_mean_absolute_error: 0.1774\n",
      "Epoch 42/100\n",
      "8304/8304 [==============================] - 123s 15ms/step - loss: 0.0203 - mean_absolute_error: 0.1117 - val_loss: 0.0487 - val_mean_absolute_error: 0.1740\n",
      "Epoch 43/100\n",
      "8304/8304 [==============================] - 123s 15ms/step - loss: 0.0203 - mean_absolute_error: 0.1117 - val_loss: 0.0501 - val_mean_absolute_error: 0.1764\n",
      "Epoch 44/100\n",
      "8304/8304 [==============================] - 123s 15ms/step - loss: 0.0197 - mean_absolute_error: 0.1101 - val_loss: 0.0509 - val_mean_absolute_error: 0.1780\n",
      "Epoch 45/100\n",
      "8304/8304 [==============================] - 123s 15ms/step - loss: 0.0198 - mean_absolute_error: 0.1099 - val_loss: 0.0501 - val_mean_absolute_error: 0.1761\n",
      "Epoch 46/100\n",
      "8304/8304 [==============================] - 123s 15ms/step - loss: 0.0192 - mean_absolute_error: 0.1085 - val_loss: 0.0502 - val_mean_absolute_error: 0.1762\n",
      "Epoch 47/100\n",
      "8304/8304 [==============================] - 123s 15ms/step - loss: 0.0189 - mean_absolute_error: 0.1079 - val_loss: 0.0500 - val_mean_absolute_error: 0.1761\n",
      "Epoch 48/100\n",
      "8304/8304 [==============================] - 123s 15ms/step - loss: 0.0190 - mean_absolute_error: 0.1080 - val_loss: 0.0484 - val_mean_absolute_error: 0.1733\n"
     ]
    },
    {
     "name": "stdout",
     "output_type": "stream",
     "text": [
      "Epoch 49/100\n",
      "8304/8304 [==============================] - 123s 15ms/step - loss: 0.0189 - mean_absolute_error: 0.1079 - val_loss: 0.0509 - val_mean_absolute_error: 0.1783\n",
      "Epoch 50/100\n",
      "8304/8304 [==============================] - 123s 15ms/step - loss: 0.0194 - mean_absolute_error: 0.1102 - val_loss: 0.0471 - val_mean_absolute_error: 0.1710\n",
      "Epoch 51/100\n",
      "8304/8304 [==============================] - 123s 15ms/step - loss: 0.0184 - mean_absolute_error: 0.1063 - val_loss: 0.0499 - val_mean_absolute_error: 0.1762\n",
      "Epoch 52/100\n",
      "8304/8304 [==============================] - 123s 15ms/step - loss: 0.0180 - mean_absolute_error: 0.1056 - val_loss: 0.0482 - val_mean_absolute_error: 0.1733\n",
      "Epoch 53/100\n",
      "8304/8304 [==============================] - 123s 15ms/step - loss: 0.0179 - mean_absolute_error: 0.1055 - val_loss: 0.0493 - val_mean_absolute_error: 0.1749\n",
      "Epoch 54/100\n",
      "8304/8304 [==============================] - 123s 15ms/step - loss: 0.0178 - mean_absolute_error: 0.1053 - val_loss: 0.0495 - val_mean_absolute_error: 0.1755\n",
      "Epoch 55/100\n",
      "8304/8304 [==============================] - 123s 15ms/step - loss: 0.0178 - mean_absolute_error: 0.1049 - val_loss: 0.0516 - val_mean_absolute_error: 0.1785\n",
      "Epoch 56/100\n",
      "8304/8304 [==============================] - 124s 15ms/step - loss: 0.0174 - mean_absolute_error: 0.1038 - val_loss: 0.0492 - val_mean_absolute_error: 0.1745\n",
      "Epoch 57/100\n",
      "8304/8304 [==============================] - 123s 15ms/step - loss: 0.0184 - mean_absolute_error: 0.1069 - val_loss: 0.0513 - val_mean_absolute_error: 0.1787\n",
      "Epoch 58/100\n",
      "8304/8304 [==============================] - 124s 15ms/step - loss: 0.0180 - mean_absolute_error: 0.1052 - val_loss: 0.0515 - val_mean_absolute_error: 0.1789\n",
      "Epoch 59/100\n",
      "8304/8304 [==============================] - 123s 15ms/step - loss: 0.0174 - mean_absolute_error: 0.1037 - val_loss: 0.0520 - val_mean_absolute_error: 0.1793\n",
      "Epoch 60/100\n",
      "8304/8304 [==============================] - 123s 15ms/step - loss: 0.0165 - mean_absolute_error: 0.1006 - val_loss: 0.0506 - val_mean_absolute_error: 0.1769\n",
      "Epoch 61/100\n",
      "8304/8304 [==============================] - 123s 15ms/step - loss: 0.0164 - mean_absolute_error: 0.1001 - val_loss: 0.0534 - val_mean_absolute_error: 0.1815\n",
      "Epoch 62/100\n",
      "8304/8304 [==============================] - 123s 15ms/step - loss: 0.0158 - mean_absolute_error: 0.0986 - val_loss: 0.0511 - val_mean_absolute_error: 0.1777\n",
      "Epoch 63/100\n",
      "8304/8304 [==============================] - 123s 15ms/step - loss: 0.0161 - mean_absolute_error: 0.0993 - val_loss: 0.0533 - val_mean_absolute_error: 0.1815\n",
      "Epoch 64/100\n",
      "8304/8304 [==============================] - 123s 15ms/step - loss: 0.0158 - mean_absolute_error: 0.0988 - val_loss: 0.0497 - val_mean_absolute_error: 0.1754\n",
      "Epoch 65/100\n",
      "8304/8304 [==============================] - 123s 15ms/step - loss: 0.0159 - mean_absolute_error: 0.0984 - val_loss: 0.0531 - val_mean_absolute_error: 0.1817\n",
      "Epoch 66/100\n",
      "8304/8304 [==============================] - 123s 15ms/step - loss: 0.0156 - mean_absolute_error: 0.0981 - val_loss: 0.0504 - val_mean_absolute_error: 0.1766\n",
      "Epoch 67/100\n",
      "8304/8304 [==============================] - 123s 15ms/step - loss: 0.0154 - mean_absolute_error: 0.0972 - val_loss: 0.0517 - val_mean_absolute_error: 0.1786\n",
      "Epoch 68/100\n",
      "8304/8304 [==============================] - 123s 15ms/step - loss: 0.0154 - mean_absolute_error: 0.0973 - val_loss: 0.0535 - val_mean_absolute_error: 0.1826\n",
      "Epoch 69/100\n",
      "8304/8304 [==============================] - 123s 15ms/step - loss: 0.0150 - mean_absolute_error: 0.0959 - val_loss: 0.0531 - val_mean_absolute_error: 0.1815\n",
      "Epoch 70/100\n",
      "8304/8304 [==============================] - 123s 15ms/step - loss: 0.0148 - mean_absolute_error: 0.0954 - val_loss: 0.0504 - val_mean_absolute_error: 0.1763\n",
      "Epoch 71/100\n",
      "8304/8304 [==============================] - 123s 15ms/step - loss: 0.0146 - mean_absolute_error: 0.0946 - val_loss: 0.0534 - val_mean_absolute_error: 0.1819\n",
      "Epoch 72/100\n",
      "8304/8304 [==============================] - 123s 15ms/step - loss: 0.0144 - mean_absolute_error: 0.0939 - val_loss: 0.0549 - val_mean_absolute_error: 0.1845\n",
      "Epoch 73/100\n",
      "8304/8304 [==============================] - 124s 15ms/step - loss: 0.0141 - mean_absolute_error: 0.0930 - val_loss: 0.0519 - val_mean_absolute_error: 0.1795\n",
      "Epoch 74/100\n",
      "8304/8304 [==============================] - 123s 15ms/step - loss: 0.0141 - mean_absolute_error: 0.0924 - val_loss: 0.0532 - val_mean_absolute_error: 0.1815\n",
      "Epoch 75/100\n",
      "8304/8304 [==============================] - 123s 15ms/step - loss: 0.0139 - mean_absolute_error: 0.0925 - val_loss: 0.0521 - val_mean_absolute_error: 0.1790\n",
      "Epoch 76/100\n",
      "8304/8304 [==============================] - 123s 15ms/step - loss: 0.0138 - mean_absolute_error: 0.0921 - val_loss: 0.0552 - val_mean_absolute_error: 0.1848\n",
      "Epoch 77/100\n",
      "8304/8304 [==============================] - 123s 15ms/step - loss: 0.0136 - mean_absolute_error: 0.0918 - val_loss: 0.0519 - val_mean_absolute_error: 0.1790\n",
      "Epoch 78/100\n",
      "8304/8304 [==============================] - 123s 15ms/step - loss: 0.0133 - mean_absolute_error: 0.0899 - val_loss: 0.0541 - val_mean_absolute_error: 0.1829\n",
      "Epoch 79/100\n",
      "8304/8304 [==============================] - 123s 15ms/step - loss: 0.0130 - mean_absolute_error: 0.0891 - val_loss: 0.0518 - val_mean_absolute_error: 0.1783\n",
      "Epoch 80/100\n",
      "8304/8304 [==============================] - 123s 15ms/step - loss: 0.0133 - mean_absolute_error: 0.0901 - val_loss: 0.0533 - val_mean_absolute_error: 0.1811\n",
      "Epoch 81/100\n",
      "8304/8304 [==============================] - 123s 15ms/step - loss: 0.0132 - mean_absolute_error: 0.0894 - val_loss: 0.0538 - val_mean_absolute_error: 0.1823\n",
      "Epoch 82/100\n",
      "8304/8304 [==============================] - 123s 15ms/step - loss: 0.0134 - mean_absolute_error: 0.0901 - val_loss: 0.0526 - val_mean_absolute_error: 0.1798\n",
      "Epoch 83/100\n",
      "8304/8304 [==============================] - 123s 15ms/step - loss: 0.0128 - mean_absolute_error: 0.0882 - val_loss: 0.0537 - val_mean_absolute_error: 0.1819\n",
      "Epoch 84/100\n",
      "8304/8304 [==============================] - 123s 15ms/step - loss: 0.0124 - mean_absolute_error: 0.0867 - val_loss: 0.0537 - val_mean_absolute_error: 0.1819\n",
      "Epoch 85/100\n",
      "8304/8304 [==============================] - 123s 15ms/step - loss: 0.0123 - mean_absolute_error: 0.0863 - val_loss: 0.0550 - val_mean_absolute_error: 0.1839\n",
      "Epoch 86/100\n",
      "8304/8304 [==============================] - 123s 15ms/step - loss: 0.0124 - mean_absolute_error: 0.0863 - val_loss: 0.0537 - val_mean_absolute_error: 0.1822\n",
      "Epoch 87/100\n",
      "8304/8304 [==============================] - 123s 15ms/step - loss: 0.0120 - mean_absolute_error: 0.0854 - val_loss: 0.0555 - val_mean_absolute_error: 0.1853\n",
      "Epoch 88/100\n",
      "8304/8304 [==============================] - 123s 15ms/step - loss: 0.0122 - mean_absolute_error: 0.0866 - val_loss: 0.0521 - val_mean_absolute_error: 0.1794\n",
      "Epoch 89/100\n",
      "8304/8304 [==============================] - 123s 15ms/step - loss: 0.0124 - mean_absolute_error: 0.0874 - val_loss: 0.0556 - val_mean_absolute_error: 0.1858\n",
      "Epoch 90/100\n",
      "8304/8304 [==============================] - 123s 15ms/step - loss: 0.0135 - mean_absolute_error: 0.0900 - val_loss: 0.0545 - val_mean_absolute_error: 0.1840\n",
      "Epoch 91/100\n",
      "8304/8304 [==============================] - 123s 15ms/step - loss: 0.0127 - mean_absolute_error: 0.0879 - val_loss: 0.0563 - val_mean_absolute_error: 0.1865\n",
      "Epoch 92/100\n",
      "8304/8304 [==============================] - 123s 15ms/step - loss: 0.0131 - mean_absolute_error: 0.0895 - val_loss: 0.0531 - val_mean_absolute_error: 0.1816\n",
      "Epoch 93/100\n",
      "8304/8304 [==============================] - 123s 15ms/step - loss: 0.0127 - mean_absolute_error: 0.0878 - val_loss: 0.0537 - val_mean_absolute_error: 0.1816\n",
      "Epoch 94/100\n",
      "8304/8304 [==============================] - 124s 15ms/step - loss: 0.0127 - mean_absolute_error: 0.0885 - val_loss: 0.0543 - val_mean_absolute_error: 0.1831\n",
      "Epoch 95/100\n",
      "8304/8304 [==============================] - 123s 15ms/step - loss: 0.0116 - mean_absolute_error: 0.0838 - val_loss: 0.0527 - val_mean_absolute_error: 0.1802\n",
      "Epoch 96/100\n",
      "8304/8304 [==============================] - 123s 15ms/step - loss: 0.0115 - mean_absolute_error: 0.0835 - val_loss: 0.0541 - val_mean_absolute_error: 0.1825\n"
     ]
    },
    {
     "name": "stdout",
     "output_type": "stream",
     "text": [
      "Epoch 97/100\n",
      "8304/8304 [==============================] - 123s 15ms/step - loss: 0.0112 - mean_absolute_error: 0.0821 - val_loss: 0.0531 - val_mean_absolute_error: 0.1810\n",
      "Epoch 98/100\n",
      "8304/8304 [==============================] - 123s 15ms/step - loss: 0.0113 - mean_absolute_error: 0.0826 - val_loss: 0.0563 - val_mean_absolute_error: 0.1858\n",
      "Epoch 99/100\n",
      "8304/8304 [==============================] - 123s 15ms/step - loss: 0.0112 - mean_absolute_error: 0.0831 - val_loss: 0.0546 - val_mean_absolute_error: 0.1834\n",
      "Epoch 100/100\n",
      "8304/8304 [==============================] - 123s 15ms/step - loss: 0.0111 - mean_absolute_error: 0.0818 - val_loss: 0.0563 - val_mean_absolute_error: 0.1860\n"
     ]
    }
   ],
   "source": [
    "history_lstm_gl = model_lstm_gl.fit([padded_docs_train, gl_train], \n",
    "                                            y_train,\n",
    "                                            batch_size=2048, epochs=100, \n",
    "                                            validation_split=.2, verbose=1, shuffle=True)"
   ]
  },
  {
   "cell_type": "code",
   "execution_count": 120,
   "metadata": {
    "collapsed": true
   },
   "outputs": [],
   "source": [
    "# saving\n",
    "with open('./model/history_lstm_gl.pickle', 'wb') as handle:\n",
    "    pickle.dump(history_lstm_gl.history, handle)\n",
    "    \n",
    "model_lstm_gl.save_weights('./model/checkpoint_{}.hdf5'.format(\n",
    "    'lstm_gl_100'))\n"
   ]
  },
  {
   "cell_type": "code",
   "execution_count": 121,
   "metadata": {},
   "outputs": [
    {
     "data": {
      "image/png": "[encoded data removed]",
      "text/plain": [
       "<matplotlib.figure.Figure at 0x7f02eb662d68>"
      ]
     },
     "metadata": {},
     "output_type": "display_data"
    }
   ],
   "source": [
    "plt.title(\"Loss\")\n",
    "plt.plot(history_lstm_gl.history[\"loss\"], color=\"r\", label=\"training\")\n",
    "plt.plot(history_lstm_gl.history[\"val_loss\"], color=\"b\", label=\"validation\")\n",
    "plt.legend(loc=\"best\")\n",
    "\n",
    "plt.tight_layout()\n",
    "plt.show()"
   ]
  },
  {
   "cell_type": "code",
   "execution_count": null,
   "metadata": {
    "collapsed": true
   },
   "outputs": [],
   "source": []
  },
  {
   "cell_type": "code",
   "execution_count": null,
   "metadata": {
    "collapsed": true
   },
   "outputs": [],
   "source": []
  },
  {
   "cell_type": "code",
   "execution_count": 122,
   "metadata": {},
   "outputs": [
    {
     "name": "stdout",
     "output_type": "stream",
     "text": [
      "_________________________________________________________________\n",
      "Layer (type)                 Output Shape              Param #   \n",
      "=================================================================\n",
      "input_9 (InputLayer)         (None, 400)               0         \n",
      "_________________________________________________________________\n",
      "embedding_6 (Embedding)      (None, 400, 100)          500100    \n",
      "_________________________________________________________________\n",
      "lstm_6 (LSTM)                (None, 400)               801600    \n",
      "_________________________________________________________________\n",
      "dropout_6 (Dropout)          (None, 400)               0         \n",
      "_________________________________________________________________\n",
      "dense_6 (Dense)              (None, 1)                 401       \n",
      "_________________________________________________________________\n",
      "activation_6 (Activation)    (None, 1)                 0         \n",
      "=================================================================\n",
      "Total params: 1,302,101\n",
      "Trainable params: 1,302,101\n",
      "Non-trainable params: 0\n",
      "_________________________________________________________________\n"
     ]
    }
   ],
   "source": [
    "def create_lstm():\n",
    "    itext = Input(shape=(MAX_LEN,))\n",
    "    embed = Embedding(VOCAB_SIZE+1, 100, \n",
    "                      input_length=MAX_LEN, mask_zero=True)(itext)\n",
    "    lstm = LSTM(MAX_LEN, dropout=0.3, recurrent_dropout=0.3)(embed)\n",
    "    \n",
    "    drop = Dropout(0.6)(lstm)\n",
    "    dens = Dense(1)(drop)\n",
    "    acti = Activation('sigmoid')(dens)\n",
    "    \n",
    "    model = Model([itext], acti)\n",
    "    model.compile(loss='mse', optimizer='adam', metrics=['mae'])\n",
    "    return model\n",
    "\n",
    "model_lstm = create_lstm()\n",
    "model_lstm.summary()"
   ]
  },
  {
   "cell_type": "code",
   "execution_count": 123,
   "metadata": {},
   "outputs": [
    {
     "name": "stdout",
     "output_type": "stream",
     "text": [
      "Train on 8304 samples, validate on 2077 samples\n",
      "Epoch 1/100\n",
      "8304/8304 [==============================] - 126s 15ms/step - loss: 0.0645 - mean_absolute_error: 0.2067 - val_loss: 0.0556 - val_mean_absolute_error: 0.1891\n",
      "Epoch 2/100\n",
      "8304/8304 [==============================] - 123s 15ms/step - loss: 0.0560 - mean_absolute_error: 0.1883 - val_loss: 0.0547 - val_mean_absolute_error: 0.1856\n",
      "Epoch 3/100\n",
      "8304/8304 [==============================] - 123s 15ms/step - loss: 0.0549 - mean_absolute_error: 0.1861 - val_loss: 0.0541 - val_mean_absolute_error: 0.1886\n",
      "Epoch 4/100\n",
      "8304/8304 [==============================] - 123s 15ms/step - loss: 0.0524 - mean_absolute_error: 0.1818 - val_loss: 0.0490 - val_mean_absolute_error: 0.1766\n",
      "Epoch 5/100\n",
      "8304/8304 [==============================] - 123s 15ms/step - loss: 0.0487 - mean_absolute_error: 0.1752 - val_loss: 0.0504 - val_mean_absolute_error: 0.1808\n",
      "Epoch 6/100\n",
      "8304/8304 [==============================] - 123s 15ms/step - loss: 0.0463 - mean_absolute_error: 0.1693 - val_loss: 0.0480 - val_mean_absolute_error: 0.1744\n",
      "Epoch 7/100\n",
      "8304/8304 [==============================] - 123s 15ms/step - loss: 0.0436 - mean_absolute_error: 0.1629 - val_loss: 0.0465 - val_mean_absolute_error: 0.1716\n",
      "Epoch 8/100\n",
      "8304/8304 [==============================] - 123s 15ms/step - loss: 0.0409 - mean_absolute_error: 0.1588 - val_loss: 0.0441 - val_mean_absolute_error: 0.1664\n",
      "Epoch 9/100\n",
      "8304/8304 [==============================] - 123s 15ms/step - loss: 0.0405 - mean_absolute_error: 0.1591 - val_loss: 0.0431 - val_mean_absolute_error: 0.1663\n",
      "Epoch 10/100\n",
      "8304/8304 [==============================] - 123s 15ms/step - loss: 0.0371 - mean_absolute_error: 0.1511 - val_loss: 0.0440 - val_mean_absolute_error: 0.1663\n",
      "Epoch 11/100\n",
      "8304/8304 [==============================] - 123s 15ms/step - loss: 0.0353 - mean_absolute_error: 0.1481 - val_loss: 0.0463 - val_mean_absolute_error: 0.1722\n",
      "Epoch 12/100\n",
      "8304/8304 [==============================] - 123s 15ms/step - loss: 0.0340 - mean_absolute_error: 0.1465 - val_loss: 0.0424 - val_mean_absolute_error: 0.1633\n",
      "Epoch 13/100\n",
      "8304/8304 [==============================] - 123s 15ms/step - loss: 0.0333 - mean_absolute_error: 0.1436 - val_loss: 0.0432 - val_mean_absolute_error: 0.1659\n",
      "Epoch 14/100\n",
      "8304/8304 [==============================] - 123s 15ms/step - loss: 0.0327 - mean_absolute_error: 0.1430 - val_loss: 0.0451 - val_mean_absolute_error: 0.1686\n",
      "Epoch 15/100\n",
      "8304/8304 [==============================] - 123s 15ms/step - loss: 0.0326 - mean_absolute_error: 0.1426 - val_loss: 0.0451 - val_mean_absolute_error: 0.1684\n",
      "Epoch 16/100\n",
      "8304/8304 [==============================] - 123s 15ms/step - loss: 0.0340 - mean_absolute_error: 0.1452 - val_loss: 0.0454 - val_mean_absolute_error: 0.1682\n",
      "Epoch 17/100\n",
      "8304/8304 [==============================] - 123s 15ms/step - loss: 0.0313 - mean_absolute_error: 0.1392 - val_loss: 0.0481 - val_mean_absolute_error: 0.1752\n",
      "Epoch 18/100\n",
      "8304/8304 [==============================] - 123s 15ms/step - loss: 0.0301 - mean_absolute_error: 0.1368 - val_loss: 0.0447 - val_mean_absolute_error: 0.1671\n",
      "Epoch 19/100\n",
      "8304/8304 [==============================] - 123s 15ms/step - loss: 0.0301 - mean_absolute_error: 0.1362 - val_loss: 0.0447 - val_mean_absolute_error: 0.1674\n",
      "Epoch 20/100\n",
      "8304/8304 [==============================] - 123s 15ms/step - loss: 0.0286 - mean_absolute_error: 0.1330 - val_loss: 0.0442 - val_mean_absolute_error: 0.1663\n",
      "Epoch 21/100\n",
      "8304/8304 [==============================] - 123s 15ms/step - loss: 0.0282 - mean_absolute_error: 0.1315 - val_loss: 0.0450 - val_mean_absolute_error: 0.1681\n",
      "Epoch 22/100\n",
      "8304/8304 [==============================] - 123s 15ms/step - loss: 0.0284 - mean_absolute_error: 0.1333 - val_loss: 0.0458 - val_mean_absolute_error: 0.1692\n",
      "Epoch 23/100\n",
      "8304/8304 [==============================] - 123s 15ms/step - loss: 0.0268 - mean_absolute_error: 0.1290 - val_loss: 0.0464 - val_mean_absolute_error: 0.1705\n",
      "Epoch 24/100\n",
      "8304/8304 [==============================] - 123s 15ms/step - loss: 0.0266 - mean_absolute_error: 0.1274 - val_loss: 0.0472 - val_mean_absolute_error: 0.1717\n",
      "Epoch 25/100\n",
      "8304/8304 [==============================] - 123s 15ms/step - loss: 0.0260 - mean_absolute_error: 0.1270 - val_loss: 0.0472 - val_mean_absolute_error: 0.1718\n",
      "Epoch 26/100\n",
      "8304/8304 [==============================] - 123s 15ms/step - loss: 0.0257 - mean_absolute_error: 0.1259 - val_loss: 0.0479 - val_mean_absolute_error: 0.1730\n",
      "Epoch 27/100\n",
      "8304/8304 [==============================] - 123s 15ms/step - loss: 0.0249 - mean_absolute_error: 0.1242 - val_loss: 0.0446 - val_mean_absolute_error: 0.1660\n",
      "Epoch 28/100\n",
      "8304/8304 [==============================] - 123s 15ms/step - loss: 0.0242 - mean_absolute_error: 0.1217 - val_loss: 0.0455 - val_mean_absolute_error: 0.1680\n",
      "Epoch 29/100\n",
      "8304/8304 [==============================] - 123s 15ms/step - loss: 0.0242 - mean_absolute_error: 0.1224 - val_loss: 0.0467 - val_mean_absolute_error: 0.1703\n",
      "Epoch 30/100\n",
      "8304/8304 [==============================] - 123s 15ms/step - loss: 0.0236 - mean_absolute_error: 0.1203 - val_loss: 0.0476 - val_mean_absolute_error: 0.1714\n",
      "Epoch 31/100\n",
      "8304/8304 [==============================] - 123s 15ms/step - loss: 0.0233 - mean_absolute_error: 0.1196 - val_loss: 0.0499 - val_mean_absolute_error: 0.1758\n",
      "Epoch 32/100\n",
      "8304/8304 [==============================] - 123s 15ms/step - loss: 0.0254 - mean_absolute_error: 0.1249 - val_loss: 0.0478 - val_mean_absolute_error: 0.1719\n",
      "Epoch 33/100\n",
      "8304/8304 [==============================] - 123s 15ms/step - loss: 0.0235 - mean_absolute_error: 0.1202 - val_loss: 0.0457 - val_mean_absolute_error: 0.1677\n",
      "Epoch 34/100\n",
      "8304/8304 [==============================] - 123s 15ms/step - loss: 0.0222 - mean_absolute_error: 0.1163 - val_loss: 0.0465 - val_mean_absolute_error: 0.1692\n",
      "Epoch 35/100\n",
      "8304/8304 [==============================] - 123s 15ms/step - loss: 0.0226 - mean_absolute_error: 0.1177 - val_loss: 0.0457 - val_mean_absolute_error: 0.1679\n",
      "Epoch 36/100\n",
      "8304/8304 [==============================] - 123s 15ms/step - loss: 0.0217 - mean_absolute_error: 0.1150 - val_loss: 0.0490 - val_mean_absolute_error: 0.1795\n",
      "Epoch 37/100\n",
      "8304/8304 [==============================] - 123s 15ms/step - loss: 0.0280 - mean_absolute_error: 0.1315 - val_loss: 0.0519 - val_mean_absolute_error: 0.1787\n",
      "Epoch 38/100\n",
      "8304/8304 [==============================] - 123s 15ms/step - loss: 0.0241 - mean_absolute_error: 0.1232 - val_loss: 0.0519 - val_mean_absolute_error: 0.1788\n",
      "Epoch 39/100\n",
      "8304/8304 [==============================] - 123s 15ms/step - loss: 0.0219 - mean_absolute_error: 0.1149 - val_loss: 0.0470 - val_mean_absolute_error: 0.1699\n",
      "Epoch 40/100\n",
      "8304/8304 [==============================] - 123s 15ms/step - loss: 0.0221 - mean_absolute_error: 0.1159 - val_loss: 0.0500 - val_mean_absolute_error: 0.1769\n",
      "Epoch 41/100\n",
      "8304/8304 [==============================] - 123s 15ms/step - loss: 0.0227 - mean_absolute_error: 0.1191 - val_loss: 0.0481 - val_mean_absolute_error: 0.1721\n",
      "Epoch 42/100\n",
      "8304/8304 [==============================] - 123s 15ms/step - loss: 0.0215 - mean_absolute_error: 0.1159 - val_loss: 0.0517 - val_mean_absolute_error: 0.1786\n",
      "Epoch 43/100\n",
      "8304/8304 [==============================] - 123s 15ms/step - loss: 0.0204 - mean_absolute_error: 0.1123 - val_loss: 0.0511 - val_mean_absolute_error: 0.1776\n",
      "Epoch 44/100\n",
      "8304/8304 [==============================] - 123s 15ms/step - loss: 0.0208 - mean_absolute_error: 0.1122 - val_loss: 0.0499 - val_mean_absolute_error: 0.1758\n",
      "Epoch 45/100\n",
      "8304/8304 [==============================] - 123s 15ms/step - loss: 0.0195 - mean_absolute_error: 0.1100 - val_loss: 0.0481 - val_mean_absolute_error: 0.1721\n",
      "Epoch 46/100\n",
      "8304/8304 [==============================] - 123s 15ms/step - loss: 0.0191 - mean_absolute_error: 0.1089 - val_loss: 0.0503 - val_mean_absolute_error: 0.1758\n",
      "Epoch 47/100\n",
      "8304/8304 [==============================] - 123s 15ms/step - loss: 0.0189 - mean_absolute_error: 0.1076 - val_loss: 0.0509 - val_mean_absolute_error: 0.1768\n",
      "Epoch 48/100\n",
      "8304/8304 [==============================] - 123s 15ms/step - loss: 0.0192 - mean_absolute_error: 0.1083 - val_loss: 0.0512 - val_mean_absolute_error: 0.1776\n"
     ]
    },
    {
     "name": "stdout",
     "output_type": "stream",
     "text": [
      "Epoch 49/100\n",
      "8304/8304 [==============================] - 123s 15ms/step - loss: 0.0182 - mean_absolute_error: 0.1051 - val_loss: 0.0500 - val_mean_absolute_error: 0.1759\n",
      "Epoch 50/100\n",
      "8304/8304 [==============================] - 123s 15ms/step - loss: 0.0183 - mean_absolute_error: 0.1065 - val_loss: 0.0497 - val_mean_absolute_error: 0.1749\n",
      "Epoch 51/100\n",
      "8304/8304 [==============================] - 123s 15ms/step - loss: 0.0181 - mean_absolute_error: 0.1060 - val_loss: 0.0508 - val_mean_absolute_error: 0.1767\n",
      "Epoch 52/100\n",
      "8304/8304 [==============================] - 123s 15ms/step - loss: 0.0181 - mean_absolute_error: 0.1057 - val_loss: 0.0503 - val_mean_absolute_error: 0.1767\n",
      "Epoch 53/100\n",
      "8304/8304 [==============================] - 123s 15ms/step - loss: 0.0183 - mean_absolute_error: 0.1069 - val_loss: 0.0533 - val_mean_absolute_error: 0.1816\n",
      "Epoch 54/100\n",
      "8304/8304 [==============================] - 124s 15ms/step - loss: 0.0176 - mean_absolute_error: 0.1042 - val_loss: 0.0509 - val_mean_absolute_error: 0.1770\n",
      "Epoch 55/100\n",
      "8304/8304 [==============================] - 123s 15ms/step - loss: 0.0180 - mean_absolute_error: 0.1056 - val_loss: 0.0509 - val_mean_absolute_error: 0.1763\n",
      "Epoch 56/100\n",
      "8304/8304 [==============================] - 123s 15ms/step - loss: 0.0177 - mean_absolute_error: 0.1053 - val_loss: 0.0513 - val_mean_absolute_error: 0.1771\n",
      "Epoch 57/100\n",
      "8304/8304 [==============================] - 123s 15ms/step - loss: 0.0175 - mean_absolute_error: 0.1042 - val_loss: 0.0488 - val_mean_absolute_error: 0.1728\n",
      "Epoch 58/100\n",
      "8304/8304 [==============================] - 123s 15ms/step - loss: 0.0176 - mean_absolute_error: 0.1045 - val_loss: 0.0520 - val_mean_absolute_error: 0.1791\n",
      "Epoch 59/100\n",
      "8304/8304 [==============================] - 123s 15ms/step - loss: 0.0166 - mean_absolute_error: 0.1013 - val_loss: 0.0498 - val_mean_absolute_error: 0.1749\n",
      "Epoch 60/100\n",
      "8304/8304 [==============================] - 123s 15ms/step - loss: 0.0166 - mean_absolute_error: 0.1008 - val_loss: 0.0497 - val_mean_absolute_error: 0.1757\n",
      "Epoch 61/100\n",
      "8304/8304 [==============================] - 123s 15ms/step - loss: 0.0167 - mean_absolute_error: 0.1017 - val_loss: 0.0509 - val_mean_absolute_error: 0.1774\n",
      "Epoch 62/100\n",
      "8304/8304 [==============================] - 123s 15ms/step - loss: 0.0163 - mean_absolute_error: 0.1003 - val_loss: 0.0523 - val_mean_absolute_error: 0.1795\n",
      "Epoch 63/100\n",
      "8304/8304 [==============================] - 123s 15ms/step - loss: 0.0158 - mean_absolute_error: 0.0987 - val_loss: 0.0523 - val_mean_absolute_error: 0.1793\n",
      "Epoch 64/100\n",
      "8304/8304 [==============================] - 123s 15ms/step - loss: 0.0159 - mean_absolute_error: 0.0987 - val_loss: 0.0548 - val_mean_absolute_error: 0.1836\n",
      "Epoch 65/100\n",
      "8304/8304 [==============================] - 123s 15ms/step - loss: 0.0159 - mean_absolute_error: 0.0990 - val_loss: 0.0511 - val_mean_absolute_error: 0.1769\n",
      "Epoch 66/100\n",
      "8304/8304 [==============================] - 123s 15ms/step - loss: 0.0157 - mean_absolute_error: 0.0983 - val_loss: 0.0537 - val_mean_absolute_error: 0.1819\n",
      "Epoch 67/100\n",
      "8304/8304 [==============================] - 123s 15ms/step - loss: 0.0154 - mean_absolute_error: 0.0973 - val_loss: 0.0525 - val_mean_absolute_error: 0.1793\n",
      "Epoch 68/100\n",
      "8304/8304 [==============================] - 123s 15ms/step - loss: 0.0154 - mean_absolute_error: 0.0973 - val_loss: 0.0532 - val_mean_absolute_error: 0.1807\n",
      "Epoch 69/100\n",
      "8304/8304 [==============================] - 123s 15ms/step - loss: 0.0162 - mean_absolute_error: 0.0988 - val_loss: 0.0520 - val_mean_absolute_error: 0.1777\n",
      "Epoch 70/100\n",
      "8304/8304 [==============================] - 123s 15ms/step - loss: 0.0160 - mean_absolute_error: 0.0993 - val_loss: 0.0524 - val_mean_absolute_error: 0.1793\n",
      "Epoch 71/100\n",
      "8304/8304 [==============================] - 123s 15ms/step - loss: 0.0153 - mean_absolute_error: 0.0973 - val_loss: 0.0519 - val_mean_absolute_error: 0.1781\n",
      "Epoch 72/100\n",
      "8304/8304 [==============================] - 123s 15ms/step - loss: 0.0147 - mean_absolute_error: 0.0946 - val_loss: 0.0534 - val_mean_absolute_error: 0.1810\n",
      "Epoch 73/100\n",
      "8304/8304 [==============================] - 123s 15ms/step - loss: 0.0145 - mean_absolute_error: 0.0944 - val_loss: 0.0544 - val_mean_absolute_error: 0.1828\n",
      "Epoch 74/100\n",
      "8304/8304 [==============================] - 123s 15ms/step - loss: 0.0145 - mean_absolute_error: 0.0938 - val_loss: 0.0500 - val_mean_absolute_error: 0.1749\n",
      "Epoch 75/100\n",
      "8304/8304 [==============================] - 123s 15ms/step - loss: 0.0141 - mean_absolute_error: 0.0930 - val_loss: 0.0538 - val_mean_absolute_error: 0.1821\n",
      "Epoch 76/100\n",
      "8304/8304 [==============================] - 123s 15ms/step - loss: 0.0147 - mean_absolute_error: 0.0941 - val_loss: 0.0504 - val_mean_absolute_error: 0.1761\n",
      "Epoch 77/100\n",
      "8304/8304 [==============================] - 123s 15ms/step - loss: 0.0146 - mean_absolute_error: 0.0946 - val_loss: 0.0554 - val_mean_absolute_error: 0.1852\n",
      "Epoch 78/100\n",
      "8304/8304 [==============================] - 123s 15ms/step - loss: 0.0140 - mean_absolute_error: 0.0927 - val_loss: 0.0543 - val_mean_absolute_error: 0.1824\n",
      "Epoch 79/100\n",
      "8304/8304 [==============================] - 123s 15ms/step - loss: 0.0140 - mean_absolute_error: 0.0920 - val_loss: 0.0519 - val_mean_absolute_error: 0.1783\n",
      "Epoch 80/100\n",
      "8304/8304 [==============================] - 123s 15ms/step - loss: 0.0133 - mean_absolute_error: 0.0907 - val_loss: 0.0540 - val_mean_absolute_error: 0.1819\n",
      "Epoch 81/100\n",
      "8304/8304 [==============================] - 123s 15ms/step - loss: 0.0142 - mean_absolute_error: 0.0927 - val_loss: 0.0539 - val_mean_absolute_error: 0.1818\n",
      "Epoch 82/100\n",
      "8304/8304 [==============================] - 123s 15ms/step - loss: 0.0135 - mean_absolute_error: 0.0913 - val_loss: 0.0536 - val_mean_absolute_error: 0.1812\n",
      "Epoch 83/100\n",
      "8304/8304 [==============================] - 123s 15ms/step - loss: 0.0132 - mean_absolute_error: 0.0900 - val_loss: 0.0555 - val_mean_absolute_error: 0.1852\n",
      "Epoch 84/100\n",
      "8304/8304 [==============================] - 123s 15ms/step - loss: 0.0134 - mean_absolute_error: 0.0902 - val_loss: 0.0545 - val_mean_absolute_error: 0.1828\n",
      "Epoch 85/100\n",
      "8304/8304 [==============================] - 123s 15ms/step - loss: 0.0133 - mean_absolute_error: 0.0897 - val_loss: 0.0548 - val_mean_absolute_error: 0.1827\n",
      "Epoch 86/100\n",
      "8304/8304 [==============================] - 123s 15ms/step - loss: 0.0129 - mean_absolute_error: 0.0891 - val_loss: 0.0548 - val_mean_absolute_error: 0.1832\n",
      "Epoch 87/100\n",
      "8304/8304 [==============================] - 123s 15ms/step - loss: 0.0131 - mean_absolute_error: 0.0889 - val_loss: 0.0530 - val_mean_absolute_error: 0.1802\n",
      "Epoch 88/100\n",
      "8304/8304 [==============================] - 123s 15ms/step - loss: 0.0125 - mean_absolute_error: 0.0870 - val_loss: 0.0529 - val_mean_absolute_error: 0.1794\n",
      "Epoch 89/100\n",
      "8304/8304 [==============================] - 123s 15ms/step - loss: 0.0127 - mean_absolute_error: 0.0879 - val_loss: 0.0538 - val_mean_absolute_error: 0.1816\n",
      "Epoch 90/100\n",
      "8304/8304 [==============================] - 123s 15ms/step - loss: 0.0129 - mean_absolute_error: 0.0892 - val_loss: 0.0553 - val_mean_absolute_error: 0.1847\n",
      "Epoch 91/100\n",
      "8304/8304 [==============================] - 123s 15ms/step - loss: 0.0126 - mean_absolute_error: 0.0872 - val_loss: 0.0529 - val_mean_absolute_error: 0.1800\n",
      "Epoch 92/100\n",
      "8304/8304 [==============================] - 123s 15ms/step - loss: 0.0124 - mean_absolute_error: 0.0875 - val_loss: 0.0545 - val_mean_absolute_error: 0.1827\n",
      "Epoch 93/100\n",
      "8304/8304 [==============================] - 123s 15ms/step - loss: 0.0118 - mean_absolute_error: 0.0845 - val_loss: 0.0522 - val_mean_absolute_error: 0.1790\n",
      "Epoch 94/100\n",
      "8304/8304 [==============================] - 123s 15ms/step - loss: 0.0120 - mean_absolute_error: 0.0855 - val_loss: 0.0548 - val_mean_absolute_error: 0.1835\n",
      "Epoch 95/100\n",
      "8304/8304 [==============================] - 123s 15ms/step - loss: 0.0119 - mean_absolute_error: 0.0848 - val_loss: 0.0538 - val_mean_absolute_error: 0.1819\n",
      "Epoch 96/100\n",
      "8304/8304 [==============================] - 123s 15ms/step - loss: 0.0122 - mean_absolute_error: 0.0852 - val_loss: 0.0558 - val_mean_absolute_error: 0.1852\n"
     ]
    },
    {
     "name": "stdout",
     "output_type": "stream",
     "text": [
      "Epoch 97/100\n",
      "8304/8304 [==============================] - 123s 15ms/step - loss: 0.0120 - mean_absolute_error: 0.0858 - val_loss: 0.0566 - val_mean_absolute_error: 0.1871\n",
      "Epoch 98/100\n",
      "8304/8304 [==============================] - 123s 15ms/step - loss: 0.0123 - mean_absolute_error: 0.0861 - val_loss: 0.0567 - val_mean_absolute_error: 0.1868\n",
      "Epoch 99/100\n",
      "8304/8304 [==============================] - 123s 15ms/step - loss: 0.0117 - mean_absolute_error: 0.0842 - val_loss: 0.0557 - val_mean_absolute_error: 0.1848\n",
      "Epoch 100/100\n",
      "8304/8304 [==============================] - 123s 15ms/step - loss: 0.0115 - mean_absolute_error: 0.0829 - val_loss: 0.0578 - val_mean_absolute_error: 0.1877\n"
     ]
    }
   ],
   "source": [
    "history_lstm = model_lstm.fit([padded_docs_train], \n",
    "                                            y_train,\n",
    "                                            batch_size=2048, epochs=100, \n",
    "                                            validation_split=.2, verbose=1, shuffle=True)"
   ]
  },
  {
   "cell_type": "code",
   "execution_count": 124,
   "metadata": {
    "collapsed": true
   },
   "outputs": [],
   "source": [
    "# saving\n",
    "with open('./model/history_lstm.pickle', 'wb') as handle:\n",
    "    pickle.dump(history_lstm.history, handle)\n",
    "    \n",
    "model_lstm.save_weights('./model/checkpoint_{}.hdf5'.format(\n",
    "    'lstm_100'))\n"
   ]
  },
  {
   "cell_type": "code",
   "execution_count": 125,
   "metadata": {},
   "outputs": [
    {
     "data": {
      "image/png": "[encoded data removed]",
      "text/plain": [
       "<matplotlib.figure.Figure at 0x7f02e9516940>"
      ]
     },
     "metadata": {},
     "output_type": "display_data"
    }
   ],
   "source": [
    "plt.title(\"Loss\")\n",
    "plt.plot(history_lstm.history[\"loss\"], color=\"r\", label=\"training\")\n",
    "plt.plot(history_lstm.history[\"val_loss\"], color=\"b\", label=\"validation\")\n",
    "plt.legend(loc=\"best\")\n",
    "\n",
    "plt.tight_layout()\n",
    "plt.show()"
   ]
  },
  {
   "cell_type": "code",
   "execution_count": null,
   "metadata": {
    "collapsed": true
   },
   "outputs": [],
   "source": []
  },
  {
   "cell_type": "code",
   "execution_count": null,
   "metadata": {
    "collapsed": true
   },
   "outputs": [],
   "source": []
  },
  {
   "cell_type": "code",
   "execution_count": null,
   "metadata": {
    "collapsed": true
   },
   "outputs": [],
   "source": []
  },
  {
   "cell_type": "code",
   "execution_count": null,
   "metadata": {
    "collapsed": true
   },
   "outputs": [],
   "source": []
  },
  {
   "cell_type": "code",
   "execution_count": null,
   "metadata": {
    "collapsed": true
   },
   "outputs": [],
   "source": []
  },
  {
   "cell_type": "markdown",
   "metadata": {},
   "source": [
    "# ---------------------------------------------------------------------------------"
   ]
  },
  {
   "cell_type": "code",
   "execution_count": null,
   "metadata": {
    "collapsed": true
   },
   "outputs": [],
   "source": []
  },
  {
   "cell_type": "code",
   "execution_count": null,
   "metadata": {
    "collapsed": true
   },
   "outputs": [],
   "source": []
  },
  {
   "cell_type": "code",
   "execution_count": null,
   "metadata": {
    "collapsed": true
   },
   "outputs": [],
   "source": []
  },
  {
   "cell_type": "code",
   "execution_count": null,
   "metadata": {
    "collapsed": true
   },
   "outputs": [],
   "source": []
  },
  {
   "cell_type": "code",
   "execution_count": null,
   "metadata": {
    "collapsed": true
   },
   "outputs": [],
   "source": []
  },
  {
   "cell_type": "code",
   "execution_count": null,
   "metadata": {
    "collapsed": true
   },
   "outputs": [],
   "source": []
  },
  {
   "cell_type": "code",
   "execution_count": null,
   "metadata": {
    "collapsed": true
   },
   "outputs": [],
   "source": []
  },
  {
   "cell_type": "code",
   "execution_count": null,
   "metadata": {
    "collapsed": true
   },
   "outputs": [],
   "source": []
  },
  {
   "cell_type": "code",
   "execution_count": null,
   "metadata": {
    "collapsed": true
   },
   "outputs": [],
   "source": []
  },
  {
   "cell_type": "code",
   "execution_count": 34,
   "metadata": {
    "collapsed": true
   },
   "outputs": [],
   "source": []
  },
  {
   "cell_type": "code",
   "execution_count": null,
   "metadata": {
    "collapsed": true
   },
   "outputs": [],
   "source": []
  },
  {
   "cell_type": "code",
   "execution_count": 53,
   "metadata": {
    "collapsed": true
   },
   "outputs": [],
   "source": [
    "model.save_weights('./model/checkpoint_epoch_{}.hdf5'.format('unilstm_adam_acc_100'))"
   ]
  },
  {
   "cell_type": "code",
   "execution_count": null,
   "metadata": {
    "collapsed": true
   },
   "outputs": [],
   "source": []
  },
  {
   "cell_type": "code",
   "execution_count": 54,
   "metadata": {
    "collapsed": true
   },
   "outputs": [],
   "source": [
    "model.load_weights('./model/checkpoint_epoch_{}.hdf5'.format('unilstm_adam_acc_100'))"
   ]
  },
  {
   "cell_type": "code",
   "execution_count": 55,
   "metadata": {},
   "outputs": [
    {
     "data": {
      "text/plain": [
       "array([[0.40976614]], dtype=float32)"
      ]
     },
     "execution_count": 55,
     "metadata": {},
     "output_type": "execute_result"
    }
   ],
   "source": [
    "model.predict(X_concat[:1])"
   ]
  },
  {
   "cell_type": "code",
   "execution_count": 58,
   "metadata": {},
   "outputs": [
    {
     "name": "stdout",
     "output_type": "stream",
     "text": [
      "Accuracy: 13.13%\n"
     ]
    }
   ],
   "source": [
    "scores = model.evaluate(X_test, y_test, verbose=1)\n",
    "print(\"Accuracy: %.2f%%\" % (scores[1]*100))"
   ]
  },
  {
   "cell_type": "code",
   "execution_count": null,
   "metadata": {
    "collapsed": true
   },
   "outputs": [],
   "source": []
  },
  {
   "cell_type": "code",
   "execution_count": null,
   "metadata": {
    "collapsed": true
   },
   "outputs": [],
   "source": []
  },
  {
   "cell_type": "code",
   "execution_count": null,
   "metadata": {
    "collapsed": true
   },
   "outputs": [],
   "source": []
  },
  {
   "cell_type": "code",
   "execution_count": null,
   "metadata": {
    "collapsed": true
   },
   "outputs": [],
   "source": []
  },
  {
   "cell_type": "code",
   "execution_count": null,
   "metadata": {
    "collapsed": true
   },
   "outputs": [],
   "source": []
  }
 ],
 "metadata": {
  "kernelspec": {
   "display_name": "Python [default]",
   "language": "python",
   "name": "python3"
  },
  "language_info": {
   "codemirror_mode": {
    "name": "ipython",
    "version": 3
   },
   "file_extension": ".py",
   "mimetype": "text/x-python",
   "name": "python",
   "nbconvert_exporter": "python",
   "pygments_lexer": "ipython3",
   "version": "3.5.3"
  }
 },
 "nbformat": 4,
 "nbformat_minor": 2
}
