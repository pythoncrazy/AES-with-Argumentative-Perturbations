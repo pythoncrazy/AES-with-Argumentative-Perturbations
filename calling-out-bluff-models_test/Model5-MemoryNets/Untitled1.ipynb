{
 "cells": [
  {
   "cell_type": "code",
   "execution_count": 6,
   "metadata": {},
   "outputs": [],
   "source": [
    "import tensorflow as tf\n",
    "graph = tf.get_default_graph()\n",
    "#saver = tf.train.Saver()\n",
    "#saver = tf.train.import_meta_graph(\"./trained_model_A1a/model-3.meta\")  \n",
    "# currModel = './trained_model_A1a/model-8'\n",
    "saver = tf.train.import_meta_graph(\"runs/essay_set_1_cv_1_Mar_25_2020_19:43:40/checkpoints-10810.meta\")  \n",
    "with tf.Session() as sess:\n",
    "    saver.restore(sess,\"runs/essay_set_1_cv_1_Mar_25_2020_19:43:40/checkpoints-10810\")\n",
    "    #saver.restore(sess,'./trained_model_A1/')"
   ]
  },
  {
   "cell_type": "code",
   "execution_count": 3,
   "metadata": {},
   "outputs": [
    {
     "name": "stdout",
     "output_type": "stream",
     "text": [
      "=================\n",
      "[<tf.Variable 'A:0' shape=(100, 300) dtype=float32_ref>, <tf.Variable 'A_mvalue:0' shape=(100, 300) dtype=float32_ref>, <tf.Variable 'A_mkey:0' shape=(100, 300) dtype=float32_ref>, <tf.Variable 'R:0' shape=(100, 100) dtype=float32_ref>, <tf.Variable 'B:0' shape=(100, 11) dtype=float32_ref>, <tf.Variable 'logits_bias:0' shape=(11,) dtype=float32_ref>]\n",
      "=================\n"
     ]
    }
   ],
   "source": [
    "tvars = tf.trainable_variables()\n",
    "print(\"=================\")\n",
    "print(tvars)\n",
    "print(\"=================\")"
   ]
  },
  {
   "cell_type": "code",
   "execution_count": null,
   "metadata": {},
   "outputs": [],
   "source": [
    "with tf.Session() as sess:\n",
    "    saver.restore(sess,\"runs/essay_set_1_cv_1_Mar_25_2020_19:43:40/checkpoints-10810\")\n",
    "    #saver.restore(sess,'./trained_model_A1/')\n",
    "    "
   ]
  },
  {
   "cell_type": "code",
   "execution_count": null,
   "metadata": {},
   "outputs": [],
   "source": []
  }
 ],
 "metadata": {
  "kernelspec": {
   "display_name": "Python 3",
   "language": "python",
   "name": "python3"
  },
  "language_info": {
   "codemirror_mode": {
    "name": "ipython",
    "version": 3
   },
   "file_extension": ".py",
   "mimetype": "text/x-python",
   "name": "python",
   "nbconvert_exporter": "python",
   "pygments_lexer": "ipython3",
   "version": "3.6.8"
  }
 },
 "nbformat": 4,
 "nbformat_minor": 4
}
