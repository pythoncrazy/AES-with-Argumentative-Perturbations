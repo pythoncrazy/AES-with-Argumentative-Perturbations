{
 "cells": [
  {
   "cell_type": "code",
   "execution_count": 1,
   "metadata": {},
   "outputs": [],
   "source": [
    "import pandas as pd"
   ]
  },
  {
   "cell_type": "code",
   "execution_count": 5,
   "metadata": {},
   "outputs": [],
   "source": [
    "df_1 = pd.read_csv(\"runs/essay_set_1_cv_1_Jun_04_2020_20:37:43/stat\")\n",
    "\n",
    "df_1 = pd.read_csv(\"runs/essay_set_1_cv_1_Jun_04_2020_20:37:43/stat\")\n",
    "df_1[\"score\"].to_csv(\"predicted_scores/org_scores/prompt1_org.csv\", index=False)\n",
    "df_1[\"pred_score\"].to_csv(\"predicted_scores/pred_org/prompt1_pred.csv\", index=False)"
   ]
  },
  {
   "cell_type": "code",
   "execution_count": 6,
   "metadata": {},
   "outputs": [],
   "source": [
    "# from qwk import quadratic_weighted_kappa\n",
    "# df_1 = pd.read_csv(\"runs/essay_set_2_cv_1_Jun_04_2020_21:51:15/stat\")\n",
    "# # df_1[\"score\"].to_csv(\"predicted_scores/org_scores/prompt1_org.csv\", index=False)\n",
    "# # df_1[\"pred_score\"].to_csv(\"predicted_scores/pred_org/prompt1_pred.csv\", index=False)\n",
    "# test_scores = df_1[\"score\"].values.tolist()\n",
    "# test_preds = df_1[\"pred_score\"].values.tolist()\n",
    "# print(len(test_scores), len(test_preds))\n",
    "# min_score = 1\n",
    "# max_score = 6\n",
    "# test_kappp_score = quadratic_weighted_kappa(test_scores, test_preds, min_score, max_score)\n",
    "# print(test_kappp_score)"
   ]
  },
  {
   "cell_type": "code",
   "execution_count": 7,
   "metadata": {},
   "outputs": [],
   "source": [
    "df_1 = pd.read_csv(\"runs/essay_set_2_cv_1_Jun_04_2020_21:51:15/stat\")\n",
    "df_1[\"score\"].to_csv(\"predicted_scores/org_scores/prompt2_org.csv\", index=False)\n",
    "df_1[\"pred_score\"].to_csv(\"predicted_scores/pred_org/prompt2_pred.csv\", index=False)"
   ]
  },
  {
   "cell_type": "code",
   "execution_count": 26,
   "metadata": {},
   "outputs": [],
   "source": [
    "# df_1 = pd.read_csv(\"runs/essay_set_2_cv_1_Jun_04_2020_21:51:15/stat\")\n",
    "# df_1[\"score\"].to_csv(\"predicted_scores/org_scores/prompt2_org.csv\", index=False)\n",
    "# df_1[\"pred_score\"].to_csv(\"predicted_scores/pred_org/prompt1_pred.csv\", index=False)"
   ]
  },
  {
   "cell_type": "code",
   "execution_count": 8,
   "metadata": {},
   "outputs": [],
   "source": [
    "df_1 = pd.read_csv(\"runs/essay_set_3_cv_1_Jun_04_2020_23:32:11/stat\")\n",
    "df_1[\"score\"].to_csv(\"predicted_scores/org_scores/prompt3_org.csv\", index=False)\n",
    "df_1[\"pred_score\"].to_csv(\"predicted_scores/pred_org/prompt3_pred.csv\", index=False)"
   ]
  },
  {
   "cell_type": "code",
   "execution_count": 9,
   "metadata": {},
   "outputs": [],
   "source": [
    "df_1 = pd.read_csv(\"runs/essay_set_4_cv_1_Jun_04_2020_23:55:32/stat\")\n",
    "df_1[\"score\"].to_csv(\"predicted_scores/org_scores/prompt4_org.csv\", index=False)\n",
    "df_1[\"pred_score\"].to_csv(\"predicted_scores/pred_org/prompt4_pred.csv\", index=False)"
   ]
  },
  {
   "cell_type": "code",
   "execution_count": 10,
   "metadata": {},
   "outputs": [],
   "source": [
    "df_1 = pd.read_csv(\"runs/essay_set_5_cv_1_Jun_05_2020_00:26:49/stat\")\n",
    "df_1[\"score\"].to_csv(\"predicted_scores/org_scores/prompt5_org.csv\", index=False)\n",
    "df_1[\"pred_score\"].to_csv(\"predicted_scores/pred_org/prompt5_pred.csv\", index=False)"
   ]
  },
  {
   "cell_type": "code",
   "execution_count": 11,
   "metadata": {},
   "outputs": [],
   "source": [
    "df_1 = pd.read_csv(\"runs/essay_set_6_cv_1_Jun_05_2020_01:32:24/stat\")\n",
    "df_1[\"score\"].to_csv(\"predicted_scores/org_scores/prompt6_org.csv\", index=False)\n",
    "df_1[\"pred_score\"].to_csv(\"predicted_scores/pred_org/prompt6_pred.csv\", index=False)"
   ]
  },
  {
   "cell_type": "code",
   "execution_count": 12,
   "metadata": {},
   "outputs": [],
   "source": [
    "df_1 = pd.read_csv(\"runs/essay_set_7_cv_1_Jun_05_2020_02:19:41/stat\")\n",
    "df_1[\"score\"].to_csv(\"predicted_scores/org_scores/prompt7_org.csv\", index=False)\n",
    "df_1[\"pred_score\"].to_csv(\"predicted_scores/pred_org/prompt7_pred.csv\", index=False)"
   ]
  },
  {
   "cell_type": "code",
   "execution_count": 13,
   "metadata": {},
   "outputs": [],
   "source": [
    "df_1 = pd.read_csv(\"runs/essay_set_8_cv_1_Jun_19_2020_03:13:25/stat\")\n",
    "df_1[\"score\"].to_csv(\"predicted_scores/org_scores/prompt8_org.csv\", index=False)\n",
    "df_1[\"pred_score\"].to_csv(\"predicted_scores/pred_org/prompt8_pred.csv\", index=False)"
   ]
  },
  {
   "cell_type": "code",
   "execution_count": 34,
   "metadata": {},
   "outputs": [
    {
     "data": {
      "text/html": [
       "<div>\n",
       "<style scoped>\n",
       "    .dataframe tbody tr th:only-of-type {\n",
       "        vertical-align: middle;\n",
       "    }\n",
       "\n",
       "    .dataframe tbody tr th {\n",
       "        vertical-align: top;\n",
       "    }\n",
       "\n",
       "    .dataframe thead th {\n",
       "        text-align: right;\n",
       "    }\n",
       "</style>\n",
       "<table border=\"1\" class=\"dataframe\">\n",
       "  <thead>\n",
       "    <tr style=\"text-align: right;\">\n",
       "      <th></th>\n",
       "      <th>Unnamed: 0</th>\n",
       "      <th>essay_id</th>\n",
       "      <th>score</th>\n",
       "      <th>pred_score</th>\n",
       "    </tr>\n",
       "  </thead>\n",
       "  <tbody>\n",
       "    <tr>\n",
       "      <th>0</th>\n",
       "      <td>0</td>\n",
       "      <td>19223</td>\n",
       "      <td>20</td>\n",
       "      <td>16</td>\n",
       "    </tr>\n",
       "    <tr>\n",
       "      <th>1</th>\n",
       "      <td>1</td>\n",
       "      <td>19224</td>\n",
       "      <td>13</td>\n",
       "      <td>15</td>\n",
       "    </tr>\n",
       "    <tr>\n",
       "      <th>2</th>\n",
       "      <td>2</td>\n",
       "      <td>19225</td>\n",
       "      <td>10</td>\n",
       "      <td>15</td>\n",
       "    </tr>\n",
       "    <tr>\n",
       "      <th>3</th>\n",
       "      <td>3</td>\n",
       "      <td>19226</td>\n",
       "      <td>14</td>\n",
       "      <td>15</td>\n",
       "    </tr>\n",
       "    <tr>\n",
       "      <th>4</th>\n",
       "      <td>4</td>\n",
       "      <td>19227</td>\n",
       "      <td>23</td>\n",
       "      <td>12</td>\n",
       "    </tr>\n",
       "    <tr>\n",
       "      <th>...</th>\n",
       "      <td>...</td>\n",
       "      <td>...</td>\n",
       "      <td>...</td>\n",
       "      <td>...</td>\n",
       "    </tr>\n",
       "    <tr>\n",
       "      <th>307</th>\n",
       "      <td>307</td>\n",
       "      <td>19557</td>\n",
       "      <td>24</td>\n",
       "      <td>19</td>\n",
       "    </tr>\n",
       "    <tr>\n",
       "      <th>308</th>\n",
       "      <td>308</td>\n",
       "      <td>19558</td>\n",
       "      <td>12</td>\n",
       "      <td>9</td>\n",
       "    </tr>\n",
       "    <tr>\n",
       "      <th>309</th>\n",
       "      <td>309</td>\n",
       "      <td>19559</td>\n",
       "      <td>16</td>\n",
       "      <td>15</td>\n",
       "    </tr>\n",
       "    <tr>\n",
       "      <th>310</th>\n",
       "      <td>310</td>\n",
       "      <td>19561</td>\n",
       "      <td>19</td>\n",
       "      <td>15</td>\n",
       "    </tr>\n",
       "    <tr>\n",
       "      <th>311</th>\n",
       "      <td>311</td>\n",
       "      <td>19562</td>\n",
       "      <td>22</td>\n",
       "      <td>24</td>\n",
       "    </tr>\n",
       "  </tbody>\n",
       "</table>\n",
       "<p>312 rows × 4 columns</p>\n",
       "</div>"
      ],
      "text/plain": [
       "     Unnamed: 0  essay_id  score  pred_score\n",
       "0             0     19223     20          16\n",
       "1             1     19224     13          15\n",
       "2             2     19225     10          15\n",
       "3             3     19226     14          15\n",
       "4             4     19227     23          12\n",
       "..          ...       ...    ...         ...\n",
       "307         307     19557     24          19\n",
       "308         308     19558     12           9\n",
       "309         309     19559     16          15\n",
       "310         310     19561     19          15\n",
       "311         311     19562     22          24\n",
       "\n",
       "[312 rows x 4 columns]"
      ]
     },
     "execution_count": 34,
     "metadata": {},
     "output_type": "execute_result"
    }
   ],
   "source": [
    "df_1[:-1]"
   ]
  },
  {
   "cell_type": "code",
   "execution_count": null,
   "metadata": {},
   "outputs": [],
   "source": []
  }
 ],
 "metadata": {
  "kernelspec": {
   "display_name": "meharpy3",
   "language": "python",
   "name": "meharpy3"
  },
  "language_info": {
   "codemirror_mode": {
    "name": "ipython",
    "version": 3
   },
   "file_extension": ".py",
   "mimetype": "text/x-python",
   "name": "python",
   "nbconvert_exporter": "python",
   "pygments_lexer": "ipython3",
   "version": "3.7.5"
  }
 },
 "nbformat": 4,
 "nbformat_minor": 4
}
