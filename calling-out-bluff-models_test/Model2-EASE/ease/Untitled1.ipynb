{
 "cells": [
  {
   "cell_type": "code",
   "execution_count": 6,
   "metadata": {},
   "outputs": [
    {
     "name": "stdout",
     "output_type": "stream",
     "text": [
      "1069\n",
      "Done1\n",
      "Done2\n",
      "features train [[1.017e+03 2.180e+02 0.000e+00 ... 0.000e+00 0.000e+00 0.000e+00]\n",
      " [1.857e+03 3.930e+02 1.800e+01 ... 0.000e+00 6.000e+00 1.000e+00]\n",
      " [8.840e+02 1.820e+02 3.000e+00 ... 0.000e+00 0.000e+00 0.000e+00]\n",
      " ...\n",
      " [1.700e+03 3.280e+02 1.800e+01 ... 0.000e+00 0.000e+00 0.000e+00]\n",
      " [2.417e+03 5.130e+02 2.700e+01 ... 0.000e+00 1.000e+00 0.000e+00]\n",
      " [1.133e+03 2.370e+02 3.000e+00 ... 0.000e+00 0.000e+00 0.000e+00]]\n",
      "Done3\n",
      "Traceback (most recent call last):\n",
      "  File \"ease_new.py\", line 177, in <module>\n",
      "    test_set = pd.read_csv('test.txt', sep='\\t', encoding = 'utf=8')\n",
      "  File \"/opt/anaconda/lib/python3.7/site-packages/pandas/io/parsers.py\", line 702, in parser_f\n",
      "    return _read(filepath_or_buffer, kwds)\n",
      "  File \"/opt/anaconda/lib/python3.7/site-packages/pandas/io/parsers.py\", line 429, in _read\n",
      "    parser = TextFileReader(filepath_or_buffer, **kwds)\n",
      "  File \"/opt/anaconda/lib/python3.7/site-packages/pandas/io/parsers.py\", line 895, in __init__\n",
      "    self._make_engine(self.engine)\n",
      "  File \"/opt/anaconda/lib/python3.7/site-packages/pandas/io/parsers.py\", line 1122, in _make_engine\n",
      "    self._engine = CParserWrapper(self.f, **self.options)\n",
      "  File \"/opt/anaconda/lib/python3.7/site-packages/pandas/io/parsers.py\", line 1853, in __init__\n",
      "    self._reader = parsers.TextReader(src, **kwds)\n",
      "  File \"pandas/_libs/parsers.pyx\", line 542, in pandas._libs.parsers.TextReader.__cinit__\n",
      "  File \"pandas/_libs/parsers.pyx\", line 784, in pandas._libs.parsers.TextReader._get_header\n",
      "UnicodeDecodeError: 'utf-8' codec can't decode byte 0xf1 in position 832: invalid continuation byte\n"
     ]
    }
   ],
   "source": [
    "! python ease_new.py"
   ]
  },
  {
   "cell_type": "code",
   "execution_count": null,
   "metadata": {},
   "outputs": [],
   "source": []
  },
  {
   "cell_type": "code",
   "execution_count": null,
   "metadata": {},
   "outputs": [],
   "source": [
    "clf = SVR(C=10, gamma = 0.001, kernel='rbf')\n",
    "0.163\n",
    "\n",
    "start training and prediciton\n",
    "/opt/anaconda/lib/python3.7/site-packages/sklearn/model_selection/_split.py:2053: FutureWarning: You should specify a value for 'cv' instead of relying on the default value. The default value will change from 3 to 5 in version 0.22.\n",
    "  warnings.warn(CV_WARNING, FutureWarning)\n",
    "{'C': 1, 'gamma': 0.001}\n",
    "0.1631575493255214\n"
   ]
  },
  {
   "cell_type": "code",
   "execution_count": null,
   "metadata": {},
   "outputs": [],
   "source": []
  }
 ],
 "metadata": {
  "kernelspec": {
   "display_name": "Python (ease)",
   "language": "python",
   "name": "ease"
  },
  "language_info": {
   "codemirror_mode": {
    "name": "ipython",
    "version": 3
   },
   "file_extension": ".py",
   "mimetype": "text/x-python",
   "name": "python",
   "nbconvert_exporter": "python",
   "pygments_lexer": "ipython3",
   "version": "3.8.1"
  }
 },
 "nbformat": 4,
 "nbformat_minor": 2
}
