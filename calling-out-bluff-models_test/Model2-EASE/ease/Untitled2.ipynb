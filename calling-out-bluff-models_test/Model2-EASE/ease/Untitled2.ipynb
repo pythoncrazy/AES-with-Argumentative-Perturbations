{
 "cells": [
  {
   "cell_type": "code",
   "execution_count": 11,
   "metadata": {},
   "outputs": [
    {
     "name": "stdout",
     "output_type": "stream",
     "text": [
      "1079\n",
      "Done1\n",
      "Done2\n",
      "Done3\n",
      "359\n",
      "Done4\n",
      "start training and prediciton\n",
      "{'C': 100, 'gamma': 1e-06}\n",
      "done6\n",
      "0.7429013180048281\n"
     ]
    }
   ],
   "source": [
    "!python ease_new3.py"
   ]
  },
  {
   "cell_type": "code",
   "execution_count": null,
   "metadata": {},
   "outputs": [],
   "source": []
  }
 ],
 "metadata": {
  "kernelspec": {
   "display_name": "Python (ease)",
   "language": "python",
   "name": "ease"
  },
  "language_info": {
   "codemirror_mode": {
    "name": "ipython",
    "version": 3
   },
   "file_extension": ".py",
   "mimetype": "text/x-python",
   "name": "python",
   "nbconvert_exporter": "python",
   "pygments_lexer": "ipython3",
   "version": "3.8.1"
  }
 },
 "nbformat": 4,
 "nbformat_minor": 2
}
