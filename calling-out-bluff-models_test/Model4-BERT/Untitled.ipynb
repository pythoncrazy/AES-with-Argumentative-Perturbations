{
 "cells": [
  {
   "cell_type": "code",
   "execution_count": 10,
   "metadata": {},
   "outputs": [
    {
     "name": "stdout",
     "output_type": "stream",
     "text": [
      "ADV_CSV_FILE_PATH AES_FinalTestcases/prompt1/contractions_aes_prompt1.csv\n",
      "   ID                                               text\n",
      "0   1  Dear local newspaper, I think effects computer...\n",
      "1   2  Dear Local Newspaper, @CAPS1 i've found that m...\n",
      "2   3  Dear reader, @ORGANIZATION1 has had a dramatic...\n",
      "3   4  I agree that computers deffinately are an adva...\n",
      "4   5  Dear local Newspaper, @CAPS1 in the society we...\n"
     ]
    }
   ],
   "source": [
    "import os\n",
    "import pandas as pd\n",
    "adv_csv_file_path = os.path.join(\"AES_FinalTestcases/prompt1/contractions_aes_prompt1.csv\")\n",
    "print(\"ADV_CSV_FILE_PATH\", adv_csv_file_path)\n",
    "if not os.path.exists(adv_csv_file_path):\n",
    "    raise ValueError(\"adv_file_path is invalid.\")\n",
    "adv_dataset = pd.read_csv(adv_csv_file_path, encoding='utf-8')\n",
    "# adv_dataset.set_index()\n",
    "adv_dataset.insert(0, 'ID', range(1, 1 + len(adv_dataset)))\n",
    "print(adv_dataset.head())"
   ]
  },
  {
   "cell_type": "code",
   "execution_count": 2,
   "metadata": {},
   "outputs": [
    {
     "ename": "NameError",
     "evalue": "name 'xgb_rg' is not defined",
     "output_type": "error",
     "traceback": [
      "\u001b[0;31m---------------------------------------------------------------------------\u001b[0m",
      "\u001b[0;31mNameError\u001b[0m                                 Traceback (most recent call last)",
      "\u001b[0;32m<ipython-input-2-d14cc0042a8a>\u001b[0m in \u001b[0;36m<module>\u001b[0;34m\u001b[0m\n\u001b[0;32m----> 1\u001b[0;31m \u001b[0mxgb_rg\u001b[0m\u001b[0;34m.\u001b[0m\u001b[0mload_model\u001b[0m\u001b[0;34m(\u001b[0m\u001b[0mos\u001b[0m\u001b[0;34m.\u001b[0m\u001b[0mpath\u001b[0m\u001b[0;34m.\u001b[0m\u001b[0mjoin\u001b[0m\u001b[0;34m(\u001b[0m\u001b[0msaved_model_dir\u001b[0m\u001b[0;34m,\u001b[0m \u001b[0;34m\"osp3.xgboost\"\u001b[0m\u001b[0;34m)\u001b[0m\u001b[0;34m)\u001b[0m\u001b[0;34m\u001b[0m\u001b[0;34m\u001b[0m\u001b[0m\n\u001b[0m",
      "\u001b[0;31mNameError\u001b[0m: name 'xgb_rg' is not defined"
     ]
    }
   ],
   "source": [
    "xgb_rg.load_model(os.path.join(saved_model_dir, \"osp3.xgboost\"))"
   ]
  },
  {
   "cell_type": "code",
   "execution_count": null,
   "metadata": {},
   "outputs": [],
   "source": []
  }
 ],
 "metadata": {
  "kernelspec": {
   "display_name": "Python (manrajpy3)",
   "language": "python",
   "name": "manrajpy3"
  },
  "language_info": {
   "codemirror_mode": {
    "name": "ipython",
    "version": 3
   },
   "file_extension": ".py",
   "mimetype": "text/x-python",
   "name": "python",
   "nbconvert_exporter": "python",
   "pygments_lexer": "ipython3",
   "version": "3.7.7"
  }
 },
 "nbformat": 4,
 "nbformat_minor": 4
}
